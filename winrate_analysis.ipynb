{
 "cells": [
  {
   "cell_type": "code",
   "execution_count": 241,
   "metadata": {},
   "outputs": [],
   "source": [
    "import numpy as np\n",
    "import pandas as pd \n",
    "import matplotlib.pyplot as plt\n",
    "import seaborn as sns\n",
    "from sklearn.linear_model import LogisticRegression\n",
    "from sklearn.preprocessing import StandardScaler\n",
    "from sklearn.model_selection import KFold\n",
    "from sklearn.model_selection import cross_val_score\n",
    "from sklearn.metrics import roc_curve\n",
    "from sklearn.metrics import roc_auc_score\n",
    "import warnings\n",
    "from sklearn.model_selection import train_test_split\n",
    "import statsmodels.formula.api as smf\n",
    "warnings.filterwarnings('ignore')\n",
    "sns.set()  "
   ]
  },
  {
   "cell_type": "markdown",
   "metadata": {},
   "source": [
    "## 1. Introduction"
   ]
  },
  {
   "cell_type": "markdown",
   "metadata": {},
   "source": [
    "With the world's biggest soccer competition recently held in Qatar, it's now time to look at the conclusions that can be drawn from this event, which for the whole planet is a reflection of the state of world soccer and the latest trends. \n",
    "\n",
    "Fans and analysts around the world have been debating two opposing visions of the sport for years. One that favors statistics and summarizes soccer in numbers, believing that the outcome of a match depends largely on which of the two teams has the most stats in its favor, and those with the 'old-fashioned' vision considering that soccer is the best sport in the world precisely because it is unpredictable and each team has a chance of going far in a competition regardless of its statistics, which would be the beauty of the sport.    \n",
    "\n",
    "At the end of this World Cup, this debate is still raging, because despite a few surprise teams such as Morocco, whose chances of going far were considered very slim at the start of the competition and who made it all the way to the semi-finals, it was actually Argentina and France, the two teams the bookmakers rated as favourites, who met in the final. Our primsry research goal today as statisticians is to prove one side right by trying to build a predictive model that will actually predict the outcome (win or not) of a match for a new dataset. For our secondary research goal, we would like for our chosen model to also yield reliable interpretative insights about the nature of the relationship between all the variables in our dataset. For this objective we will use 6 explanatory variables (5 numerical and 1 categorical) that are central to soccer and how we play it.\n",
    "\n",
    "By creating such a predictive model, we want to provide an insights to the continuing discussion between statistics enthusiasts and people who claim that soccer is unpredictable. The ability to forecast a match outcome could have some practical implications for sports gamblers and betting enthusiasts as well. These people stand to gain from a predictive model that provides a good insight for making good decisions in the world of sports betting.\n",
    "\n",
    "For a sports gambler or a betting enthusiast, the preference for the classifier would depend on their specific goals and risk tolerance. If their primary goal is to maximize profits by correctly predicting a win, they might prefer a classifier that is better at classifying positives, even if it means misclassifying some negatives. At the opposite, if they prioritize minimizing losses and avoid bad predictions of wins, they might lean towards a classifier that would be better at classifying negatives, even if it means missing out on some positive predictions. The optimal balance would only depend on the user's risk aversion and gambling strategy.\n",
    "\n",
    "Our research is based on two important articles that help shape our study on predicting soccer outcomes and using statistics. The first article by Hubáček, Šourek, and Železný, called \"Exploiting sports-betting market using machine learning\" (International Journal of Forecasting, 2019), talks about using computer methods to be better at sports betting. The second article by Wunderlich and Memmert, \"Analysis of the predictive qualities of betting odds and FIFA World Ranking: evidence from the 2006, 2010, and 2014 Football World Cups\" (Journal of Sports Sciences, 2016), looks at how good betting predictions and soccer rankings are. By using these articles, our research fits into what others have already studied and adds to what we know about predicting soccer using numbers. (Hubáček et al., 2019; Wunderlich & Memmert, 2016)\n",
    "\n",
    "The accuracy of our predictive model at the end of our analysis can then give us an idea of whether the outcome of a match is so easy to predict thanks to statistics, or whether soccer is really so unpredictable. Ideally, we would also like for our chosen model to also yield reliable interpretative insights about the nature of the relationship between the statistics in the dataset. This could be a great way for someone interested in both sports and statistics to understand how both disciplines have close ties, and fans all around the world to put into perspective the role of statistics in sport analysis."
   ]
  },
  {
   "cell_type": "markdown",
   "metadata": {},
   "source": [
    "## 2. Dataset Discussion"
   ]
  },
  {
   "cell_type": "markdown",
   "metadata": {},
   "source": [
    "For our analysis, we used the dataset of all 64 matches of the 2022 Fifa World Cup, obtained from Kaggle (https://www.kaggle.com/datasets/die9origephit/fifa-world-cup-2022-complete-dataset). This dataset is ideal for performing data analysis of the matches of the 2022 Fifa World Cup. For the data to be collected, the players are provided with detailed tracking data recorded by multiple cameras positioned around the stadium. These statistics and metrics are synchronised with match footage taken from different camera angles.\n",
    "\n",
    "Since a vast array of features are present, not only can a wide range of exploratory data analysis techniques be deployed, but also different plots and visualization techniques can be used to determine if soccer is that predictable.\n",
    "\n",
    "Each row correspond to a different game that occured during the competition, including details such as teams, match outcome, and various statistics. However, the dataset is likely limited to information related to the matches themselves, such as team statistics and the outcomes by themselves. It may not include other contextual data, player-specific details, or external factors influencing the matches, like weather, attendance, etc... \n",
    "\n",
    "If the dataset lacks certain types of observations,, it could influence the comprehensiveness of the predictive model. The person interested in sports betting might need to consider additional data sources to enhance the model's accuracy and relevance to real world scenarios, especially since those factors have been proven to influence the outcome of a game in other competitions. Incorporating a broader set of features could provide more nuanced insights into soccer match outcomes."
   ]
  },
  {
   "cell_type": "code",
   "execution_count": 242,
   "metadata": {},
   "outputs": [
    {
     "data": {
      "text/html": [
       "<div>\n",
       "<style scoped>\n",
       "    .dataframe tbody tr th:only-of-type {\n",
       "        vertical-align: middle;\n",
       "    }\n",
       "\n",
       "    .dataframe tbody tr th {\n",
       "        vertical-align: top;\n",
       "    }\n",
       "\n",
       "    .dataframe thead th {\n",
       "        text-align: right;\n",
       "    }\n",
       "</style>\n",
       "<table border=\"1\" class=\"dataframe\">\n",
       "  <thead>\n",
       "    <tr style=\"text-align: right;\">\n",
       "      <th></th>\n",
       "      <th>team1</th>\n",
       "      <th>team2</th>\n",
       "      <th>possession_team1</th>\n",
       "      <th>possession_team2</th>\n",
       "      <th>possession in contest</th>\n",
       "      <th>number_of_goals_team1</th>\n",
       "      <th>number_of_goals_team2</th>\n",
       "      <th>date</th>\n",
       "      <th>hour</th>\n",
       "      <th>category</th>\n",
       "      <th>...</th>\n",
       "      <th>penalties scored team1</th>\n",
       "      <th>penalties scored team2</th>\n",
       "      <th>goal preventions team1</th>\n",
       "      <th>goal preventions team2</th>\n",
       "      <th>own goals team1</th>\n",
       "      <th>own goals team2</th>\n",
       "      <th>forced turnovers team1</th>\n",
       "      <th>forced turnovers team2</th>\n",
       "      <th>defensive_pressures_applied_team1</th>\n",
       "      <th>defensive pressures applied team2</th>\n",
       "    </tr>\n",
       "  </thead>\n",
       "  <tbody>\n",
       "    <tr>\n",
       "      <th>0</th>\n",
       "      <td>QATAR</td>\n",
       "      <td>ECUADOR</td>\n",
       "      <td>42%</td>\n",
       "      <td>50%</td>\n",
       "      <td>8%</td>\n",
       "      <td>0</td>\n",
       "      <td>2</td>\n",
       "      <td>20-Nov-22</td>\n",
       "      <td>17:00</td>\n",
       "      <td>Group A</td>\n",
       "      <td>...</td>\n",
       "      <td>0</td>\n",
       "      <td>1</td>\n",
       "      <td>6</td>\n",
       "      <td>5</td>\n",
       "      <td>0</td>\n",
       "      <td>0</td>\n",
       "      <td>52</td>\n",
       "      <td>72</td>\n",
       "      <td>256</td>\n",
       "      <td>279</td>\n",
       "    </tr>\n",
       "    <tr>\n",
       "      <th>1</th>\n",
       "      <td>ENGLAND</td>\n",
       "      <td>IRAN</td>\n",
       "      <td>72%</td>\n",
       "      <td>19%</td>\n",
       "      <td>9%</td>\n",
       "      <td>6</td>\n",
       "      <td>2</td>\n",
       "      <td>21-Nov-22</td>\n",
       "      <td>14:00</td>\n",
       "      <td>Group B</td>\n",
       "      <td>...</td>\n",
       "      <td>0</td>\n",
       "      <td>1</td>\n",
       "      <td>8</td>\n",
       "      <td>13</td>\n",
       "      <td>0</td>\n",
       "      <td>0</td>\n",
       "      <td>63</td>\n",
       "      <td>72</td>\n",
       "      <td>139</td>\n",
       "      <td>416</td>\n",
       "    </tr>\n",
       "    <tr>\n",
       "      <th>2</th>\n",
       "      <td>SENEGAL</td>\n",
       "      <td>NETHERLANDS</td>\n",
       "      <td>44%</td>\n",
       "      <td>45%</td>\n",
       "      <td>11%</td>\n",
       "      <td>0</td>\n",
       "      <td>2</td>\n",
       "      <td>21-Nov-22</td>\n",
       "      <td>17:00</td>\n",
       "      <td>Group A</td>\n",
       "      <td>...</td>\n",
       "      <td>0</td>\n",
       "      <td>0</td>\n",
       "      <td>9</td>\n",
       "      <td>15</td>\n",
       "      <td>0</td>\n",
       "      <td>0</td>\n",
       "      <td>63</td>\n",
       "      <td>73</td>\n",
       "      <td>263</td>\n",
       "      <td>251</td>\n",
       "    </tr>\n",
       "    <tr>\n",
       "      <th>3</th>\n",
       "      <td>UNITED STATES</td>\n",
       "      <td>WALES</td>\n",
       "      <td>51%</td>\n",
       "      <td>39%</td>\n",
       "      <td>10%</td>\n",
       "      <td>1</td>\n",
       "      <td>1</td>\n",
       "      <td>21-Nov-22</td>\n",
       "      <td>20:00</td>\n",
       "      <td>Group B</td>\n",
       "      <td>...</td>\n",
       "      <td>0</td>\n",
       "      <td>1</td>\n",
       "      <td>7</td>\n",
       "      <td>7</td>\n",
       "      <td>0</td>\n",
       "      <td>0</td>\n",
       "      <td>81</td>\n",
       "      <td>72</td>\n",
       "      <td>242</td>\n",
       "      <td>292</td>\n",
       "    </tr>\n",
       "    <tr>\n",
       "      <th>4</th>\n",
       "      <td>ARGENTINA</td>\n",
       "      <td>SAUDI ARABIA</td>\n",
       "      <td>64%</td>\n",
       "      <td>24%</td>\n",
       "      <td>12%</td>\n",
       "      <td>1</td>\n",
       "      <td>2</td>\n",
       "      <td>22-Nov-22</td>\n",
       "      <td>11:00</td>\n",
       "      <td>Group C</td>\n",
       "      <td>...</td>\n",
       "      <td>1</td>\n",
       "      <td>0</td>\n",
       "      <td>4</td>\n",
       "      <td>14</td>\n",
       "      <td>0</td>\n",
       "      <td>0</td>\n",
       "      <td>65</td>\n",
       "      <td>80</td>\n",
       "      <td>163</td>\n",
       "      <td>361</td>\n",
       "    </tr>\n",
       "  </tbody>\n",
       "</table>\n",
       "<p>5 rows × 88 columns</p>\n",
       "</div>"
      ],
      "text/plain": [
       "           team1         team2 possession_team1 possession_team2  \\\n",
       "0          QATAR       ECUADOR              42%              50%   \n",
       "1        ENGLAND          IRAN              72%              19%   \n",
       "2        SENEGAL   NETHERLANDS              44%              45%   \n",
       "3  UNITED STATES         WALES              51%              39%   \n",
       "4      ARGENTINA  SAUDI ARABIA              64%              24%   \n",
       "\n",
       "  possession in contest  number_of_goals_team1  number_of_goals_team2  \\\n",
       "0                    8%                      0                      2   \n",
       "1                    9%                      6                      2   \n",
       "2                   11%                      0                      2   \n",
       "3                   10%                      1                      1   \n",
       "4                   12%                      1                      2   \n",
       "\n",
       "        date   hour category  ...  penalties scored team1  \\\n",
       "0  20-Nov-22  17:00  Group A  ...                       0   \n",
       "1  21-Nov-22  14:00  Group B  ...                       0   \n",
       "2  21-Nov-22  17:00  Group A  ...                       0   \n",
       "3  21-Nov-22  20:00  Group B  ...                       0   \n",
       "4  22-Nov-22  11:00  Group C  ...                       1   \n",
       "\n",
       "   penalties scored team2  goal preventions team1  goal preventions team2  \\\n",
       "0                       1                       6                       5   \n",
       "1                       1                       8                      13   \n",
       "2                       0                       9                      15   \n",
       "3                       1                       7                       7   \n",
       "4                       0                       4                      14   \n",
       "\n",
       "   own goals team1  own goals team2  forced turnovers team1  \\\n",
       "0                0                0                      52   \n",
       "1                0                0                      63   \n",
       "2                0                0                      63   \n",
       "3                0                0                      81   \n",
       "4                0                0                      65   \n",
       "\n",
       "   forced turnovers team2  defensive_pressures_applied_team1  \\\n",
       "0                      72                                256   \n",
       "1                      72                                139   \n",
       "2                      73                                263   \n",
       "3                      72                                242   \n",
       "4                      80                                163   \n",
       "\n",
       "   defensive pressures applied team2  \n",
       "0                                279  \n",
       "1                                416  \n",
       "2                                251  \n",
       "3                                292  \n",
       "4                                361  \n",
       "\n",
       "[5 rows x 88 columns]"
      ]
     },
     "execution_count": 242,
     "metadata": {},
     "output_type": "execute_result"
    }
   ],
   "source": [
    "df_world_cup = pd.read_csv('World_cup.csv')\n",
    "df_world_cup.head()"
   ]
  },
  {
   "cell_type": "code",
   "execution_count": 243,
   "metadata": {},
   "outputs": [
    {
     "data": {
      "text/plain": [
       "64"
      ]
     },
     "execution_count": 243,
     "metadata": {},
     "output_type": "execute_result"
    }
   ],
   "source": [
    "df_world_cup.shape[0]"
   ]
  },
  {
   "cell_type": "markdown",
   "metadata": {},
   "source": [
    "The response variable in our model is a binary indicator representing whether a soccer match is won or not. This categorical outcome simplifies the predictive task by classifying matches into two distinct categories. For the explanatory variables, possession reflects a team's control over the ball during a match, while the number of passes made gives us an idea into teamwork and offensive strategies. Goals scored quantifies a team's success in attack. Total attempts and on-target attempts gives perspectives on offensive approaches and precision of the shots. Additionally, we plan to introduce a categorical variable, Defensive Team, in the next section to further analyse the importance of defense in soccer."
   ]
  },
  {
   "cell_type": "markdown",
   "metadata": {},
   "source": [
    "## 3. Dataset Cleaning"
   ]
  },
  {
   "cell_type": "markdown",
   "metadata": {},
   "source": [
    "As this dataset contains more than 88 columns which, although containing very interesting data on match content, will not be of any real use to us in our analysis, we will keep only those we consider useful or interesting in the context of our analysis. These are, of course, possession, number of shots, shots on target, crosses, passes and defensive pressure applied. To make the analysis simpler, we're going to focus solely on the statistics of the home team, i.e. Team 1."
   ]
  },
  {
   "cell_type": "code",
   "execution_count": 244,
   "metadata": {},
   "outputs": [
    {
     "data": {
      "text/html": [
       "<div>\n",
       "<style scoped>\n",
       "    .dataframe tbody tr th:only-of-type {\n",
       "        vertical-align: middle;\n",
       "    }\n",
       "\n",
       "    .dataframe tbody tr th {\n",
       "        vertical-align: top;\n",
       "    }\n",
       "\n",
       "    .dataframe thead th {\n",
       "        text-align: right;\n",
       "    }\n",
       "</style>\n",
       "<table border=\"1\" class=\"dataframe\">\n",
       "  <thead>\n",
       "    <tr style=\"text-align: right;\">\n",
       "      <th></th>\n",
       "      <th>possession_team1</th>\n",
       "      <th>number_of_goals_team1</th>\n",
       "      <th>number_of_goals_team2</th>\n",
       "      <th>total_attempts_team1</th>\n",
       "      <th>on_target_attempts_team1</th>\n",
       "      <th>passes_team1</th>\n",
       "      <th>defensive_pressures_applied_team1</th>\n",
       "    </tr>\n",
       "  </thead>\n",
       "  <tbody>\n",
       "    <tr>\n",
       "      <th>0</th>\n",
       "      <td>42%</td>\n",
       "      <td>0</td>\n",
       "      <td>2</td>\n",
       "      <td>5</td>\n",
       "      <td>0</td>\n",
       "      <td>450</td>\n",
       "      <td>256</td>\n",
       "    </tr>\n",
       "    <tr>\n",
       "      <th>1</th>\n",
       "      <td>72%</td>\n",
       "      <td>6</td>\n",
       "      <td>2</td>\n",
       "      <td>13</td>\n",
       "      <td>7</td>\n",
       "      <td>809</td>\n",
       "      <td>139</td>\n",
       "    </tr>\n",
       "    <tr>\n",
       "      <th>2</th>\n",
       "      <td>44%</td>\n",
       "      <td>0</td>\n",
       "      <td>2</td>\n",
       "      <td>14</td>\n",
       "      <td>3</td>\n",
       "      <td>383</td>\n",
       "      <td>263</td>\n",
       "    </tr>\n",
       "    <tr>\n",
       "      <th>3</th>\n",
       "      <td>51%</td>\n",
       "      <td>1</td>\n",
       "      <td>1</td>\n",
       "      <td>6</td>\n",
       "      <td>1</td>\n",
       "      <td>569</td>\n",
       "      <td>242</td>\n",
       "    </tr>\n",
       "    <tr>\n",
       "      <th>4</th>\n",
       "      <td>64%</td>\n",
       "      <td>1</td>\n",
       "      <td>2</td>\n",
       "      <td>14</td>\n",
       "      <td>6</td>\n",
       "      <td>610</td>\n",
       "      <td>163</td>\n",
       "    </tr>\n",
       "  </tbody>\n",
       "</table>\n",
       "</div>"
      ],
      "text/plain": [
       "  possession_team1  number_of_goals_team1  number_of_goals_team2  \\\n",
       "0              42%                      0                      2   \n",
       "1              72%                      6                      2   \n",
       "2              44%                      0                      2   \n",
       "3              51%                      1                      1   \n",
       "4              64%                      1                      2   \n",
       "\n",
       "   total_attempts_team1  on_target_attempts_team1  passes_team1  \\\n",
       "0                     5                         0           450   \n",
       "1                    13                         7           809   \n",
       "2                    14                         3           383   \n",
       "3                     6                         1           569   \n",
       "4                    14                         6           610   \n",
       "\n",
       "   defensive_pressures_applied_team1  \n",
       "0                                256  \n",
       "1                                139  \n",
       "2                                263  \n",
       "3                                242  \n",
       "4                                163  "
      ]
     },
     "execution_count": 244,
     "metadata": {},
     "output_type": "execute_result"
    }
   ],
   "source": [
    "df = df_world_cup[['possession_team1', 'number_of_goals_team1', 'number_of_goals_team2', 'total_attempts_team1', 'on_target_attempts_team1', 'passes_team1', 'defensive_pressures_applied_team1']]\n",
    "df.head()"
   ]
  },
  {
   "cell_type": "markdown",
   "metadata": {},
   "source": [
    "Let's now check whether our dataset contains any explicit missing values in the form of NaN."
   ]
  },
  {
   "cell_type": "code",
   "execution_count": 245,
   "metadata": {},
   "outputs": [
    {
     "data": {
      "text/plain": [
       "possession_team1                     0\n",
       "number_of_goals_team1                0\n",
       "number_of_goals_team2                0\n",
       "total_attempts_team1                 0\n",
       "on_target_attempts_team1             0\n",
       "passes_team1                         0\n",
       "defensive_pressures_applied_team1    0\n",
       "dtype: int64"
      ]
     },
     "execution_count": 245,
     "metadata": {},
     "output_type": "execute_result"
    }
   ],
   "source": [
    "df.isna().sum()"
   ]
  },
  {
   "cell_type": "markdown",
   "metadata": {},
   "source": [
    "We can see that none of the columns contain explicit missing values, which is good because we don't have to drop them.\n",
    "\n",
    "Now let's check whether the dataset contains explicit missing values. To do this, let's check the type of values contained in each column, which should all be of type int64 or float64 as they are numeric values."
   ]
  },
  {
   "cell_type": "code",
   "execution_count": 246,
   "metadata": {},
   "outputs": [
    {
     "data": {
      "text/plain": [
       "possession_team1                     object\n",
       "number_of_goals_team1                 int64\n",
       "number_of_goals_team2                 int64\n",
       "total_attempts_team1                  int64\n",
       "on_target_attempts_team1              int64\n",
       "passes_team1                          int64\n",
       "defensive_pressures_applied_team1     int64\n",
       "dtype: object"
      ]
     },
     "execution_count": 246,
     "metadata": {},
     "output_type": "execute_result"
    }
   ],
   "source": [
    "df.dtypes"
   ]
  },
  {
   "cell_type": "markdown",
   "metadata": {},
   "source": [
    "We can see that for all columns, the values are of float64 and int64 types, except for the possession column. If we look at the column, we can see that this is because the possession percentages are expressed as percentages and not as fractions. To remedy this, we're going to use a simple line of code that converts the percentages expressed as objects into fractions, i.e. floats64. "
   ]
  },
  {
   "cell_type": "code",
   "execution_count": 247,
   "metadata": {},
   "outputs": [
    {
     "data": {
      "text/plain": [
       "possession_team1                     float64\n",
       "number_of_goals_team1                  int64\n",
       "number_of_goals_team2                  int64\n",
       "total_attempts_team1                   int64\n",
       "on_target_attempts_team1               int64\n",
       "passes_team1                           int64\n",
       "defensive_pressures_applied_team1      int64\n",
       "dtype: object"
      ]
     },
     "execution_count": 247,
     "metadata": {},
     "output_type": "execute_result"
    }
   ],
   "source": [
    "df['possession_team1'] = df['possession_team1'].str.rstrip('%').astype('int') / 100.0\n",
    "\n",
    "df.dtypes"
   ]
  },
  {
   "cell_type": "markdown",
   "metadata": {},
   "source": [
    "Now that we've checked the type of each value again and can confirm that they're all now either int64 or float64, we'll carry on working.\n",
    "\n",
    "Notice that we don't have any columns dedicated to the result of the game? We'll remedy that in the next few lines of code. First, we create a Goal_difference column that tells us the goal difference in favor of team 1."
   ]
  },
  {
   "cell_type": "code",
   "execution_count": 248,
   "metadata": {},
   "outputs": [],
   "source": [
    "df['Goal_difference'] = df['number_of_goals_team1'] - df['number_of_goals_team2']\n",
    "df = df.drop('number_of_goals_team2', axis=1)"
   ]
  },
  {
   "cell_type": "markdown",
   "metadata": {},
   "source": [
    "Now we create a new column called Result_team1 which tells us the result of the match based on the goal difference we've just calculated (win, draw or loss).\n"
   ]
  },
  {
   "cell_type": "code",
   "execution_count": 249,
   "metadata": {},
   "outputs": [
    {
     "data": {
      "text/html": [
       "<div>\n",
       "<style scoped>\n",
       "    .dataframe tbody tr th:only-of-type {\n",
       "        vertical-align: middle;\n",
       "    }\n",
       "\n",
       "    .dataframe tbody tr th {\n",
       "        vertical-align: top;\n",
       "    }\n",
       "\n",
       "    .dataframe thead th {\n",
       "        text-align: right;\n",
       "    }\n",
       "</style>\n",
       "<table border=\"1\" class=\"dataframe\">\n",
       "  <thead>\n",
       "    <tr style=\"text-align: right;\">\n",
       "      <th></th>\n",
       "      <th>possession_team1</th>\n",
       "      <th>number_of_goals_team1</th>\n",
       "      <th>total_attempts_team1</th>\n",
       "      <th>on_target_attempts_team1</th>\n",
       "      <th>passes_team1</th>\n",
       "      <th>defensive_pressures_applied_team1</th>\n",
       "      <th>Win</th>\n",
       "    </tr>\n",
       "  </thead>\n",
       "  <tbody>\n",
       "    <tr>\n",
       "      <th>0</th>\n",
       "      <td>0.42</td>\n",
       "      <td>0</td>\n",
       "      <td>5</td>\n",
       "      <td>0</td>\n",
       "      <td>450</td>\n",
       "      <td>256</td>\n",
       "      <td>False</td>\n",
       "    </tr>\n",
       "    <tr>\n",
       "      <th>1</th>\n",
       "      <td>0.72</td>\n",
       "      <td>6</td>\n",
       "      <td>13</td>\n",
       "      <td>7</td>\n",
       "      <td>809</td>\n",
       "      <td>139</td>\n",
       "      <td>True</td>\n",
       "    </tr>\n",
       "    <tr>\n",
       "      <th>2</th>\n",
       "      <td>0.44</td>\n",
       "      <td>0</td>\n",
       "      <td>14</td>\n",
       "      <td>3</td>\n",
       "      <td>383</td>\n",
       "      <td>263</td>\n",
       "      <td>False</td>\n",
       "    </tr>\n",
       "    <tr>\n",
       "      <th>3</th>\n",
       "      <td>0.51</td>\n",
       "      <td>1</td>\n",
       "      <td>6</td>\n",
       "      <td>1</td>\n",
       "      <td>569</td>\n",
       "      <td>242</td>\n",
       "      <td>False</td>\n",
       "    </tr>\n",
       "    <tr>\n",
       "      <th>4</th>\n",
       "      <td>0.64</td>\n",
       "      <td>1</td>\n",
       "      <td>14</td>\n",
       "      <td>6</td>\n",
       "      <td>610</td>\n",
       "      <td>163</td>\n",
       "      <td>False</td>\n",
       "    </tr>\n",
       "  </tbody>\n",
       "</table>\n",
       "</div>"
      ],
      "text/plain": [
       "   possession_team1  number_of_goals_team1  total_attempts_team1  \\\n",
       "0              0.42                      0                     5   \n",
       "1              0.72                      6                    13   \n",
       "2              0.44                      0                    14   \n",
       "3              0.51                      1                     6   \n",
       "4              0.64                      1                    14   \n",
       "\n",
       "   on_target_attempts_team1  passes_team1  defensive_pressures_applied_team1  \\\n",
       "0                         0           450                                256   \n",
       "1                         7           809                                139   \n",
       "2                         3           383                                263   \n",
       "3                         1           569                                242   \n",
       "4                         6           610                                163   \n",
       "\n",
       "     Win  \n",
       "0  False  \n",
       "1   True  \n",
       "2  False  \n",
       "3  False  \n",
       "4  False  "
      ]
     },
     "execution_count": 249,
     "metadata": {},
     "output_type": "execute_result"
    }
   ],
   "source": [
    "df['Win'] = df['Goal_difference'] > 0\n",
    "df = df.drop('Goal_difference', axis=1)\n",
    "df.head()"
   ]
  },
  {
   "cell_type": "markdown",
   "metadata": {},
   "source": [
    "There is a certain cliché in soccer that says that defensive teams are usually weaker teams that use defense as a way to reduce their chances of getting beaten. Some people also think that playinf defensive is a strategy like any other and that good teams could use it to mark their solidity and a way to get the opponent tired to score on counter attack. We create a new categorical variable called 'Defensive team', that would be marked as true if the team's defensive pressure is high enough and its total attemps is low enough. We also drop the variable Defensive pressure since it is already linked to our new categorical variable and would also complicate our predictive model which could lead to overfitting to our current dataset."
   ]
  },
  {
   "cell_type": "code",
   "execution_count": 250,
   "metadata": {},
   "outputs": [
    {
     "data": {
      "text/html": [
       "<div>\n",
       "<style scoped>\n",
       "    .dataframe tbody tr th:only-of-type {\n",
       "        vertical-align: middle;\n",
       "    }\n",
       "\n",
       "    .dataframe tbody tr th {\n",
       "        vertical-align: top;\n",
       "    }\n",
       "\n",
       "    .dataframe thead th {\n",
       "        text-align: right;\n",
       "    }\n",
       "</style>\n",
       "<table border=\"1\" class=\"dataframe\">\n",
       "  <thead>\n",
       "    <tr style=\"text-align: right;\">\n",
       "      <th></th>\n",
       "      <th>possession_team1</th>\n",
       "      <th>number_of_goals_team1</th>\n",
       "      <th>total_attempts_team1</th>\n",
       "      <th>on_target_attempts_team1</th>\n",
       "      <th>passes_team1</th>\n",
       "      <th>Win</th>\n",
       "      <th>Defensive_Team</th>\n",
       "    </tr>\n",
       "  </thead>\n",
       "  <tbody>\n",
       "    <tr>\n",
       "      <th>0</th>\n",
       "      <td>0.42</td>\n",
       "      <td>0</td>\n",
       "      <td>5</td>\n",
       "      <td>0</td>\n",
       "      <td>450</td>\n",
       "      <td>False</td>\n",
       "      <td>False</td>\n",
       "    </tr>\n",
       "    <tr>\n",
       "      <th>1</th>\n",
       "      <td>0.72</td>\n",
       "      <td>6</td>\n",
       "      <td>13</td>\n",
       "      <td>7</td>\n",
       "      <td>809</td>\n",
       "      <td>True</td>\n",
       "      <td>False</td>\n",
       "    </tr>\n",
       "    <tr>\n",
       "      <th>2</th>\n",
       "      <td>0.44</td>\n",
       "      <td>0</td>\n",
       "      <td>14</td>\n",
       "      <td>3</td>\n",
       "      <td>383</td>\n",
       "      <td>False</td>\n",
       "      <td>False</td>\n",
       "    </tr>\n",
       "    <tr>\n",
       "      <th>3</th>\n",
       "      <td>0.51</td>\n",
       "      <td>1</td>\n",
       "      <td>6</td>\n",
       "      <td>1</td>\n",
       "      <td>569</td>\n",
       "      <td>False</td>\n",
       "      <td>False</td>\n",
       "    </tr>\n",
       "    <tr>\n",
       "      <th>4</th>\n",
       "      <td>0.64</td>\n",
       "      <td>1</td>\n",
       "      <td>14</td>\n",
       "      <td>6</td>\n",
       "      <td>610</td>\n",
       "      <td>False</td>\n",
       "      <td>False</td>\n",
       "    </tr>\n",
       "    <tr>\n",
       "      <th>...</th>\n",
       "      <td>...</td>\n",
       "      <td>...</td>\n",
       "      <td>...</td>\n",
       "      <td>...</td>\n",
       "      <td>...</td>\n",
       "      <td>...</td>\n",
       "      <td>...</td>\n",
       "    </tr>\n",
       "    <tr>\n",
       "      <th>59</th>\n",
       "      <td>0.54</td>\n",
       "      <td>1</td>\n",
       "      <td>14</td>\n",
       "      <td>6</td>\n",
       "      <td>508</td>\n",
       "      <td>False</td>\n",
       "      <td>False</td>\n",
       "    </tr>\n",
       "    <tr>\n",
       "      <th>60</th>\n",
       "      <td>0.34</td>\n",
       "      <td>3</td>\n",
       "      <td>10</td>\n",
       "      <td>7</td>\n",
       "      <td>408</td>\n",
       "      <td>True</td>\n",
       "      <td>True</td>\n",
       "    </tr>\n",
       "    <tr>\n",
       "      <th>61</th>\n",
       "      <td>0.34</td>\n",
       "      <td>2</td>\n",
       "      <td>14</td>\n",
       "      <td>2</td>\n",
       "      <td>358</td>\n",
       "      <td>True</td>\n",
       "      <td>True</td>\n",
       "    </tr>\n",
       "    <tr>\n",
       "      <th>62</th>\n",
       "      <td>0.45</td>\n",
       "      <td>2</td>\n",
       "      <td>14</td>\n",
       "      <td>4</td>\n",
       "      <td>491</td>\n",
       "      <td>True</td>\n",
       "      <td>False</td>\n",
       "    </tr>\n",
       "    <tr>\n",
       "      <th>63</th>\n",
       "      <td>0.46</td>\n",
       "      <td>3</td>\n",
       "      <td>21</td>\n",
       "      <td>9</td>\n",
       "      <td>648</td>\n",
       "      <td>False</td>\n",
       "      <td>False</td>\n",
       "    </tr>\n",
       "  </tbody>\n",
       "</table>\n",
       "<p>64 rows × 7 columns</p>\n",
       "</div>"
      ],
      "text/plain": [
       "    possession_team1  number_of_goals_team1  total_attempts_team1  \\\n",
       "0               0.42                      0                     5   \n",
       "1               0.72                      6                    13   \n",
       "2               0.44                      0                    14   \n",
       "3               0.51                      1                     6   \n",
       "4               0.64                      1                    14   \n",
       "..               ...                    ...                   ...   \n",
       "59              0.54                      1                    14   \n",
       "60              0.34                      3                    10   \n",
       "61              0.34                      2                    14   \n",
       "62              0.45                      2                    14   \n",
       "63              0.46                      3                    21   \n",
       "\n",
       "    on_target_attempts_team1  passes_team1    Win  Defensive_Team  \n",
       "0                          0           450  False           False  \n",
       "1                          7           809   True           False  \n",
       "2                          3           383  False           False  \n",
       "3                          1           569  False           False  \n",
       "4                          6           610  False           False  \n",
       "..                       ...           ...    ...             ...  \n",
       "59                         6           508  False           False  \n",
       "60                         7           408   True            True  \n",
       "61                         2           358   True            True  \n",
       "62                         4           491   True           False  \n",
       "63                         9           648  False           False  \n",
       "\n",
       "[64 rows x 7 columns]"
      ]
     },
     "execution_count": 250,
     "metadata": {},
     "output_type": "execute_result"
    }
   ],
   "source": [
    "df['Defensive_Team'] = (df['defensive_pressures_applied_team1'] > 300) & (df['total_attempts_team1'] < 15)\n",
    "df= df.drop('defensive_pressures_applied_team1', axis=1)\n",
    "df"
   ]
  },
  {
   "cell_type": "markdown",
   "metadata": {},
   "source": [
    "Our categorical explanatory variable has enough observations that correspond to all levels, which means our new categorical variable 'Defensive Team' will likely not lead to overfitting our current model."
   ]
  },
  {
   "cell_type": "markdown",
   "metadata": {},
   "source": [
    "For each pair of numerical variables we plot a scatterplot to detect the presence of any outlier."
   ]
  },
  {
   "cell_type": "code",
   "execution_count": 251,
   "metadata": {},
   "outputs": [
    {
     "data": {
      "image/png": "[encoded data removed]",
      "text/plain": [
       "<Figure size 900x900 with 30 Axes>"
      ]
     },
     "metadata": {},
     "output_type": "display_data"
    }
   ],
   "source": [
    "numerical_columns = df.select_dtypes(include=['int64', 'float64']).columns\n",
    "\n",
    "sns.pairplot(df[numerical_columns], diag_kind='kde')\n",
    "plt.show()"
   ]
  },
  {
   "cell_type": "markdown",
   "metadata": {},
   "source": [
    "Looking at all the scatterplots, we observe the presence of an outlier for the passes_team1 variable, we visualize the variable before dropping it, using a boxplot."
   ]
  },
  {
   "cell_type": "code",
   "execution_count": 252,
   "metadata": {},
   "outputs": [
    {
     "data": {
      "text/plain": [
       "Text(0.5, 0, 'Passes completed by team1')"
      ]
     },
     "execution_count": 252,
     "metadata": {},
     "output_type": "execute_result"
    },
    {
     "data": {
      "image/png": "[encoded data removed]",
      "text/plain": [
       "<Figure size 432x288 with 1 Axes>"
      ]
     },
     "metadata": {},
     "output_type": "display_data"
    }
   ],
   "source": [
    "plt.boxplot(df['passes_team1'], vert=False)\n",
    "plt.title('Passes')\n",
    "plt.xlabel('Passes completed by team1')"
   ]
  },
  {
   "cell_type": "markdown",
   "metadata": {},
   "source": [
    "For the number of passes, we observe an outlier which is also the highest value of the column. Let's find the outlier here and drop it. Dropping outliers in our dataset can have both advantages and drawbacks. On the positive side, removing outliers can make our analysis more accurate by reducing the impact of extreme values that might skew our results. This can lead to a clearer understanding of the overall patterns in the data. However, the downside is that by removing outliers, we might lose some valuable information. In this case, we only got rid of one outlier so the impact of that removal would not be too important in building our predictive model."
   ]
  },
  {
   "cell_type": "code",
   "execution_count": 253,
   "metadata": {},
   "outputs": [],
   "source": [
    "outlier = df['passes_team1'].max()\n",
    "df = df.drop(df[df['passes_team1'] == outlier].index)"
   ]
  },
  {
   "cell_type": "markdown",
   "metadata": {},
   "source": [
    "There is one duplicate in our dataset (Morocco vs. Croatia), but we will not drop it since the statistics for this game are different the two times since Morocco played Croatia twice during the competition, in the group stage then in the match for the 3rd place. Getting rid of duplicates could be an additional step taken in the process of data cleaning, however in this case it will not be necessary so no extra step will be taken and we can finally start working on our predictive model using our clean dataset."
   ]
  },
  {
   "cell_type": "markdown",
   "metadata": {},
   "source": [
    "## 4. Preliminary Analysis"
   ]
  },
  {
   "cell_type": "markdown",
   "metadata": {},
   "source": [
    "For our preliminary analysis, we visualize the relationship between our explanatory variable and response variable, to determine which variable will have the strongest relationship with our response variable and which one will have the weakest. We first start by visualizing the relationship between numerical explanatory variable and our 0/1 response variable."
   ]
  },
  {
   "cell_type": "code",
   "execution_count": 256,
   "metadata": {},
   "outputs": [
    {
     "data": {
      "image/png": "[encoded data removed]",
      "text/plain": [
       "<Figure size 432x288 with 1 Axes>"
      ]
     },
     "metadata": {},
     "output_type": "display_data"
    },
    {
     "data": {
      "image/png": "[encoded data removed]",
      "text/plain": [
       "<Figure size 432x288 with 1 Axes>"
      ]
     },
     "metadata": {},
     "output_type": "display_data"
    },
    {
     "data": {
      "image/png": "[encoded data removed]",
      "text/plain": [
       "<Figure size 432x288 with 1 Axes>"
      ]
     },
     "metadata": {},
     "output_type": "display_data"
    },
    {
     "data": {
      "image/png": "[encoded data removed]",
      "text/plain": [
       "<Figure size 432x288 with 1 Axes>"
      ]
     },
     "metadata": {},
     "output_type": "display_data"
    },
    {
     "data": {
      "image/png": "[encoded data removed]",
      "text/plain": [
       "<Figure size 432x288 with 1 Axes>"
      ]
     },
     "metadata": {},
     "output_type": "display_data"
    }
   ],
   "source": [
    "def plot_relationship(df, x_var):\n",
    "    sns.regplot(x=x_var, y='Win',\n",
    "            data=df,\n",
    "            logistic=True,\n",
    "            ci=True)\n",
    "    plt.show()\n",
    "\n",
    "numerical_variables = [\n",
    "    'possession_team1',\n",
    "    'number_of_goals_team1',\n",
    "    'total_attempts_team1',\n",
    "    'on_target_attempts_team1',\n",
    "    'passes_team1',]\n",
    "\n",
    "for var in numerical_variables:\n",
    "    plot_relationship(df, var)"
   ]
  },
  {
   "cell_type": "markdown",
   "metadata": {},
   "source": [
    "The strongest relationship is the one with the visualization that looks the most like a logistic regression model, so in this case the relationship between the explanatory variable 'number_of_goals_team1' and the 0/1 response variable. The weakest relationship is the one that looks the least like a logistic regression model so between 'passes_team1' and the 0/1 response variable."
   ]
  },
  {
   "cell_type": "markdown",
   "metadata": {},
   "source": [
    "We now look at the relationship between our categorical variable 'Defensive_Team' and our 0/1 response variable."
   ]
  },
  {
   "cell_type": "code",
   "execution_count": 173,
   "metadata": {},
   "outputs": [
    {
     "data": {
      "image/png": "[encoded data removed]",
      "text/plain": [
       "<Figure size 576x360 with 1 Axes>"
      ]
     },
     "metadata": {},
     "output_type": "display_data"
    }
   ],
   "source": [
    "plt.figure(figsize=(8, 5))\n",
    "sns.countplot(x='Defensive_Team', hue='Win', data=df)\n",
    "plt.title('Relationship between Defensive_Team and Win')\n",
    "plt.show()"
   ]
  },
  {
   "cell_type": "markdown",
   "metadata": {},
   "source": [
    "We can observe that there is a significant difference in the barplots showing the relationship between the chances of a team winning and if that team would be considered Defensive. We notice that Teams that are considered defensive will have more chances of winning while non-defensive teams will lose or draw more often."
   ]
  },
  {
   "cell_type": "code",
   "execution_count": 174,
   "metadata": {},
   "outputs": [
    {
     "data": {
      "image/png": "[encoded data removed]",
      "text/plain": [
       "<Figure size 458.175x360 with 1 Axes>"
      ]
     },
     "metadata": {},
     "output_type": "display_data"
    },
    {
     "data": {
      "image/png": "[encoded data removed]",
      "text/plain": [
       "<Figure size 458.175x360 with 1 Axes>"
      ]
     },
     "metadata": {},
     "output_type": "display_data"
    },
    {
     "data": {
      "image/png": "[encoded data removed]",
      "text/plain": [
       "<Figure size 458.175x360 with 1 Axes>"
      ]
     },
     "metadata": {},
     "output_type": "display_data"
    },
    {
     "data": {
      "image/png": "[encoded data removed]",
      "text/plain": [
       "<Figure size 458.175x360 with 1 Axes>"
      ]
     },
     "metadata": {},
     "output_type": "display_data"
    },
    {
     "data": {
      "image/png": "[encoded data removed]",
      "text/plain": [
       "<Figure size 458.175x360 with 1 Axes>"
      ]
     },
     "metadata": {},
     "output_type": "display_data"
    },
    {
     "data": {
      "image/png": "[encoded data removed]",
      "text/plain": [
       "<Figure size 458.175x360 with 1 Axes>"
      ]
     },
     "metadata": {},
     "output_type": "display_data"
    },
    {
     "data": {
      "image/png": "[encoded data removed]",
      "text/plain": [
       "<Figure size 458.175x360 with 1 Axes>"
      ]
     },
     "metadata": {},
     "output_type": "display_data"
    }
   ],
   "source": [
    "def interaction_relationship(df, x_var):\n",
    "    sns.lmplot(x=x_var, y='Win',\n",
    "            hue= 'Defensive_Team',\n",
    "            data=df,\n",
    "            logistic=True,\n",
    "            ci=False)\n",
    "    plt.show()\n",
    "\n",
    "for var in numerical_variables:\n",
    "    interaction_relationship(df, var)"
   ]
  },
  {
   "cell_type": "markdown",
   "metadata": {},
   "source": [
    "Because there is a large difference between the two logistic regression model slopes, we can conclude that there is an interaction effect between 'passes_team1' and 'Defensive_Team' in how they impact the predicted probability a game is won."
   ]
  },
  {
   "cell_type": "markdown",
   "metadata": {},
   "source": [
    "## 5. Model Data Preprocessing"
   ]
  },
  {
   "cell_type": "markdown",
   "metadata": {},
   "source": [
    "We now create a new 0/1 variable in the dataset in which Winning=1 and Losing=0."
   ]
  },
  {
   "cell_type": "code",
   "execution_count": 175,
   "metadata": {},
   "outputs": [
    {
     "data": {
      "text/html": [
       "<div>\n",
       "<style scoped>\n",
       "    .dataframe tbody tr th:only-of-type {\n",
       "        vertical-align: middle;\n",
       "    }\n",
       "\n",
       "    .dataframe tbody tr th {\n",
       "        vertical-align: top;\n",
       "    }\n",
       "\n",
       "    .dataframe thead th {\n",
       "        text-align: right;\n",
       "    }\n",
       "</style>\n",
       "<table border=\"1\" class=\"dataframe\">\n",
       "  <thead>\n",
       "    <tr style=\"text-align: right;\">\n",
       "      <th></th>\n",
       "      <th>possession_team1</th>\n",
       "      <th>number_of_goals_team1</th>\n",
       "      <th>total_attempts_team1</th>\n",
       "      <th>on_target_attempts_team1</th>\n",
       "      <th>passes_team1</th>\n",
       "      <th>Win</th>\n",
       "      <th>Defensive_Team</th>\n",
       "    </tr>\n",
       "  </thead>\n",
       "  <tbody>\n",
       "    <tr>\n",
       "      <th>0</th>\n",
       "      <td>0.42</td>\n",
       "      <td>0</td>\n",
       "      <td>5</td>\n",
       "      <td>0</td>\n",
       "      <td>450</td>\n",
       "      <td>0</td>\n",
       "      <td>False</td>\n",
       "    </tr>\n",
       "    <tr>\n",
       "      <th>1</th>\n",
       "      <td>0.72</td>\n",
       "      <td>6</td>\n",
       "      <td>13</td>\n",
       "      <td>7</td>\n",
       "      <td>809</td>\n",
       "      <td>1</td>\n",
       "      <td>False</td>\n",
       "    </tr>\n",
       "    <tr>\n",
       "      <th>2</th>\n",
       "      <td>0.44</td>\n",
       "      <td>0</td>\n",
       "      <td>14</td>\n",
       "      <td>3</td>\n",
       "      <td>383</td>\n",
       "      <td>0</td>\n",
       "      <td>False</td>\n",
       "    </tr>\n",
       "    <tr>\n",
       "      <th>3</th>\n",
       "      <td>0.51</td>\n",
       "      <td>1</td>\n",
       "      <td>6</td>\n",
       "      <td>1</td>\n",
       "      <td>569</td>\n",
       "      <td>0</td>\n",
       "      <td>False</td>\n",
       "    </tr>\n",
       "    <tr>\n",
       "      <th>4</th>\n",
       "      <td>0.64</td>\n",
       "      <td>1</td>\n",
       "      <td>14</td>\n",
       "      <td>6</td>\n",
       "      <td>610</td>\n",
       "      <td>0</td>\n",
       "      <td>False</td>\n",
       "    </tr>\n",
       "  </tbody>\n",
       "</table>\n",
       "</div>"
      ],
      "text/plain": [
       "   possession_team1  number_of_goals_team1  total_attempts_team1  \\\n",
       "0              0.42                      0                     5   \n",
       "1              0.72                      6                    13   \n",
       "2              0.44                      0                    14   \n",
       "3              0.51                      1                     6   \n",
       "4              0.64                      1                    14   \n",
       "\n",
       "   on_target_attempts_team1  passes_team1  Win  Defensive_Team  \n",
       "0                         0           450    0           False  \n",
       "1                         7           809    1           False  \n",
       "2                         3           383    0           False  \n",
       "3                         1           569    0           False  \n",
       "4                         6           610    0           False  "
      ]
     },
     "execution_count": 175,
     "metadata": {},
     "output_type": "execute_result"
    }
   ],
   "source": [
    "df['Win'] = df['Win'].replace({True: 1, False: 0})\n",
    "df = df.drop(['crosses_team1', 'defensive_pressures_applied_team1', 'Goal_difference'], axis=1)\n",
    "df.head()"
   ]
  },
  {
   "cell_type": "markdown",
   "metadata": {},
   "source": [
    "Now, we create a features matrix and target array."
   ]
  },
  {
   "cell_type": "code",
   "execution_count": 176,
   "metadata": {},
   "outputs": [
    {
     "data": {
      "text/html": [
       "<div>\n",
       "<style scoped>\n",
       "    .dataframe tbody tr th:only-of-type {\n",
       "        vertical-align: middle;\n",
       "    }\n",
       "\n",
       "    .dataframe tbody tr th {\n",
       "        vertical-align: top;\n",
       "    }\n",
       "\n",
       "    .dataframe thead th {\n",
       "        text-align: right;\n",
       "    }\n",
       "</style>\n",
       "<table border=\"1\" class=\"dataframe\">\n",
       "  <thead>\n",
       "    <tr style=\"text-align: right;\">\n",
       "      <th></th>\n",
       "      <th>possession_team1</th>\n",
       "      <th>number_of_goals_team1</th>\n",
       "      <th>total_attempts_team1</th>\n",
       "      <th>on_target_attempts_team1</th>\n",
       "      <th>passes_team1</th>\n",
       "      <th>Defensive_Team</th>\n",
       "    </tr>\n",
       "  </thead>\n",
       "  <tbody>\n",
       "    <tr>\n",
       "      <th>0</th>\n",
       "      <td>0.42</td>\n",
       "      <td>0</td>\n",
       "      <td>5</td>\n",
       "      <td>0</td>\n",
       "      <td>450</td>\n",
       "      <td>False</td>\n",
       "    </tr>\n",
       "    <tr>\n",
       "      <th>1</th>\n",
       "      <td>0.72</td>\n",
       "      <td>6</td>\n",
       "      <td>13</td>\n",
       "      <td>7</td>\n",
       "      <td>809</td>\n",
       "      <td>False</td>\n",
       "    </tr>\n",
       "    <tr>\n",
       "      <th>2</th>\n",
       "      <td>0.44</td>\n",
       "      <td>0</td>\n",
       "      <td>14</td>\n",
       "      <td>3</td>\n",
       "      <td>383</td>\n",
       "      <td>False</td>\n",
       "    </tr>\n",
       "    <tr>\n",
       "      <th>3</th>\n",
       "      <td>0.51</td>\n",
       "      <td>1</td>\n",
       "      <td>6</td>\n",
       "      <td>1</td>\n",
       "      <td>569</td>\n",
       "      <td>False</td>\n",
       "    </tr>\n",
       "    <tr>\n",
       "      <th>4</th>\n",
       "      <td>0.64</td>\n",
       "      <td>1</td>\n",
       "      <td>14</td>\n",
       "      <td>6</td>\n",
       "      <td>610</td>\n",
       "      <td>False</td>\n",
       "    </tr>\n",
       "  </tbody>\n",
       "</table>\n",
       "</div>"
      ],
      "text/plain": [
       "   possession_team1  number_of_goals_team1  total_attempts_team1  \\\n",
       "0              0.42                      0                     5   \n",
       "1              0.72                      6                    13   \n",
       "2              0.44                      0                    14   \n",
       "3              0.51                      1                     6   \n",
       "4              0.64                      1                    14   \n",
       "\n",
       "   on_target_attempts_team1  passes_team1  Defensive_Team  \n",
       "0                         0           450           False  \n",
       "1                         7           809           False  \n",
       "2                         3           383           False  \n",
       "3                         1           569           False  \n",
       "4                         6           610           False  "
      ]
     },
     "execution_count": 176,
     "metadata": {},
     "output_type": "execute_result"
    }
   ],
   "source": [
    "X = df[['possession_team1', 'number_of_goals_team1', 'total_attempts_team1', 'on_target_attempts_team1', 'passes_team1', 'Defensive_Team']]\n",
    "X.head()"
   ]
  },
  {
   "cell_type": "code",
   "execution_count": 177,
   "metadata": {},
   "outputs": [
    {
     "data": {
      "text/plain": [
       "0    0\n",
       "1    1\n",
       "2    0\n",
       "3    0\n",
       "4    0\n",
       "Name: Win, dtype: int64"
      ]
     },
     "execution_count": 177,
     "metadata": {},
     "output_type": "execute_result"
    }
   ],
   "source": [
    "Y = df['Win']\n",
    "Y.head()"
   ]
  },
  {
   "cell_type": "markdown",
   "metadata": {},
   "source": [
    "Now, we scale our numerical explanatory variables so that we can focus on our secondary research goal of interpretability."
   ]
  },
  {
   "cell_type": "code",
   "execution_count": 178,
   "metadata": {},
   "outputs": [
    {
     "data": {
      "text/plain": [
       "array([[-0.22201411, -1.02534108, -1.2446747 , -1.67631345, -0.38366922],\n",
       "       [ 2.31529   ,  2.87298541,  0.37688623,  1.11546509,  1.93063481],\n",
       "       [-0.0528605 , -1.02534108,  0.57958135, -0.47983694, -0.81558669],\n",
       "       [ 0.53917712, -0.37562   , -1.04197958, -1.27748795,  0.38346777],\n",
       "       [ 1.63867557, -0.37562   ,  0.57958135,  0.71663958,  0.64777547],\n",
       "       [ 0.87748434, -1.02534108, -0.028504  , -0.08101143,  0.544631  ],\n",
       "       [ 0.79290753, -1.02534108,  0.37688623, -0.08101143, -0.1580407 ],\n",
       "       [ 0.96206114,  1.57354324,  2.20114228,  1.11546509,  1.44714511],\n",
       "       [-1.06778215, -1.02534108, -0.63658935, -0.87866244, -0.96385686],\n",
       "       [ 1.72325238, -0.37562   ,  2.80922763,  1.9131161 ,  2.00154663],\n",
       "       [ 2.48444361,  3.52270649,  1.1876667 ,  1.11546509,  3.5551602 ],\n",
       "       [ 0.11629311, -0.37562   , -0.43389423, -0.47983694,  0.0160156 ],\n",
       "       [-0.13743731, -0.37562   , -0.63658935, -0.47983694, -0.08068234],\n",
       "       [ 0.37002352, -1.02534108, -0.23119912, -1.67631345,  0.11916007],\n",
       "       [ 0.87748434,  0.92382216, -0.028504  ,  0.31781407,  0.81538523],\n",
       "       [ 0.70833073,  0.27410108,  2.60653251,  2.3119416 ,  0.48661224],\n",
       "       [ 0.53917712, -1.02534108, -0.23119912, -0.47983694, -0.00977052],\n",
       "       [-0.22201411, -0.37562   , -0.23119912, -0.87866244, -0.55127898],\n",
       "       [ 0.28544671, -0.37562   , -1.85276005, -1.27748795,  0.09337395],\n",
       "       [ 0.53917712, -1.02534108, -0.63658935, -0.47983694,  0.26098371],\n",
       "       [ 0.45460032, -1.02534108,  0.37688623, -0.08101143, -0.05489623],\n",
       "       [-1.23693575,  0.27410108, -0.63658935, -0.47983694, -1.33130903],\n",
       "       [-0.0528605 ,  0.27410108,  1.99844716,  0.71663958, -0.04200317],\n",
       "       [ 0.45460032,  0.27410108, -1.2446747 , -0.87866244,  0.15139271],\n",
       "       [ 0.28544671, -1.02534108,  0.57958135, -0.47983694,  0.42214694],\n",
       "       [ 0.96206114, -1.02534108, -0.23119912, -0.08101143,  1.04101376],\n",
       "       [-0.30659091,  1.57354324,  0.37688623,  2.3119416 , -0.30631087],\n",
       "       [ 0.96206114, -0.37562   , -0.83928447, -0.47983694,  0.88629706],\n",
       "       [-0.56032132,  0.92382216,  0.37688623,  1.51429059, -0.93807074],\n",
       "       [ 0.70833073,  0.27410108,  1.99844716,  0.71663958,  0.19651842],\n",
       "       [ 0.53917712, -0.37562   , -0.43389423,  0.31781407,  0.35768165],\n",
       "       [ 0.70833073,  0.27410108,  0.57958135, -0.08101143,  0.55752406],\n",
       "       [ 0.79290753,  0.27410108,  0.37688623, -0.08101143,  1.8403834 ],\n",
       "       [ 0.53917712, -0.37562   , -0.63658935, -0.08101143, -0.49970675],\n",
       "       [-0.98320534, -1.02534108, -0.83928447, -1.27748795, -1.18948539],\n",
       "       [-0.22201411, -1.02534108, -1.04197958, -0.87866244, -0.29986434],\n",
       "       [-1.74439658, -0.37562   , -0.63658935, -0.08101143, -1.44090003],\n",
       "       [-1.23693575, -0.37562   , -1.2446747 , -0.47983694, -1.1701458 ],\n",
       "       [-1.74439658, -1.02534108, -1.44736982, -1.67631345, -1.21527151],\n",
       "       [-1.32151256, -0.37562   , -0.23119912, -0.87866244, -1.36998821],\n",
       "       [-0.13743731, -1.02534108, -0.028504  , -0.08101143,  0.44148653],\n",
       "       [ 0.62375393, -0.37562   , -1.2446747 , -1.67631345,  0.19007189],\n",
       "       [-2.59016461,  0.27410108, -1.04197958, -0.47983694, -1.83413832],\n",
       "       [-1.49066616,  0.27410108, -0.63658935,  0.71663958, -1.04766174],\n",
       "       [ 0.11629311, -1.02534108, -0.43389423, -0.08101143, -0.31920393],\n",
       "       [-0.89862854,  0.27410108,  0.17419112,  0.71663958, -0.97030339],\n",
       "       [ 0.0317163 ,  0.27410108, -0.028504  , -0.08101143, -0.21605946],\n",
       "       [-1.15235895, -0.37562   , -0.83928447, -0.47983694, -1.38288127],\n",
       "       [-0.98320534,  0.92382216, -0.028504  ,  0.71663958, -0.73178181],\n",
       "       [ 0.70833073,  0.27410108,  0.57958135,  0.31781407,  1.29887493],\n",
       "       [ 0.28544671,  0.92382216,  0.98497158,  1.11546509,  0.19651842],\n",
       "       [ 0.79290753,  0.92382216, -0.63658935, -0.08101143,  0.56397059],\n",
       "       [-0.81405174, -0.37562   ,  0.17419112, -0.08101143,  0.14494618],\n",
       "       [ 0.20086991,  1.57354324,  1.39036181,  1.9131161 ,  0.68645465],\n",
       "       [-1.91355018, -1.02534108, -1.04197958, -0.47983694, -1.20237845],\n",
       "       [-0.13743731,  2.87298541,  0.57958135,  1.9131161 , -0.3127574 ],\n",
       "       [ 0.0317163 , -0.37562   , -0.43389423, -1.27748795,  1.32466105],\n",
       "       [ 0.0317163 ,  0.27410108, -1.2446747 , -0.87866244,  0.91208317],\n",
       "       [-1.91355018, -0.37562   , -0.43389423, -0.47983694, -1.8083522 ],\n",
       "       [ 0.79290753, -0.37562   ,  0.57958135,  0.71663958, -0.00977052],\n",
       "       [-0.89862854,  0.92382216, -0.23119912,  1.11546509, -0.65442345],\n",
       "       [-0.89862854,  0.27410108,  0.57958135, -0.87866244, -0.97674992],\n",
       "       [ 0.0317163 ,  0.27410108,  0.57958135, -0.08101143, -0.11936152],\n",
       "       [ 0.11629311,  0.92382216,  1.99844716,  1.9131161 ,  0.89274358]])"
      ]
     },
     "execution_count": 178,
     "metadata": {},
     "output_type": "execute_result"
    }
   ],
   "source": [
    "scaler = StandardScaler()\n",
    "scaled_expl_vars = scaler.fit_transform(X[['possession_team1', 'number_of_goals_team1', 'total_attempts_team1', 'on_target_attempts_team1', 'passes_team1']])\n",
    "scaled_expl_vars"
   ]
  },
  {
   "cell_type": "markdown",
   "metadata": {},
   "source": [
    "We also need to translate our categorical explanatory variable into indicator variables in the features matrix, done below:"
   ]
  },
  {
   "cell_type": "code",
   "execution_count": 179,
   "metadata": {},
   "outputs": [
    {
     "data": {
      "text/html": [
       "<div>\n",
       "<style scoped>\n",
       "    .dataframe tbody tr th:only-of-type {\n",
       "        vertical-align: middle;\n",
       "    }\n",
       "\n",
       "    .dataframe tbody tr th {\n",
       "        vertical-align: top;\n",
       "    }\n",
       "\n",
       "    .dataframe thead th {\n",
       "        text-align: right;\n",
       "    }\n",
       "</style>\n",
       "<table border=\"1\" class=\"dataframe\">\n",
       "  <thead>\n",
       "    <tr style=\"text-align: right;\">\n",
       "      <th></th>\n",
       "      <th>possession_team1</th>\n",
       "      <th>number_of_goals_team1</th>\n",
       "      <th>total_attempts_team1</th>\n",
       "      <th>on_target_attempts_team1</th>\n",
       "      <th>passes_team1</th>\n",
       "      <th>Defensive_Team</th>\n",
       "    </tr>\n",
       "  </thead>\n",
       "  <tbody>\n",
       "    <tr>\n",
       "      <th>0</th>\n",
       "      <td>0.42</td>\n",
       "      <td>0</td>\n",
       "      <td>5</td>\n",
       "      <td>0</td>\n",
       "      <td>450</td>\n",
       "      <td>0</td>\n",
       "    </tr>\n",
       "    <tr>\n",
       "      <th>1</th>\n",
       "      <td>0.72</td>\n",
       "      <td>6</td>\n",
       "      <td>13</td>\n",
       "      <td>7</td>\n",
       "      <td>809</td>\n",
       "      <td>0</td>\n",
       "    </tr>\n",
       "    <tr>\n",
       "      <th>2</th>\n",
       "      <td>0.44</td>\n",
       "      <td>0</td>\n",
       "      <td>14</td>\n",
       "      <td>3</td>\n",
       "      <td>383</td>\n",
       "      <td>0</td>\n",
       "    </tr>\n",
       "    <tr>\n",
       "      <th>3</th>\n",
       "      <td>0.51</td>\n",
       "      <td>1</td>\n",
       "      <td>6</td>\n",
       "      <td>1</td>\n",
       "      <td>569</td>\n",
       "      <td>0</td>\n",
       "    </tr>\n",
       "    <tr>\n",
       "      <th>4</th>\n",
       "      <td>0.64</td>\n",
       "      <td>1</td>\n",
       "      <td>14</td>\n",
       "      <td>6</td>\n",
       "      <td>610</td>\n",
       "      <td>0</td>\n",
       "    </tr>\n",
       "  </tbody>\n",
       "</table>\n",
       "</div>"
      ],
      "text/plain": [
       "   possession_team1  number_of_goals_team1  total_attempts_team1  \\\n",
       "0              0.42                      0                     5   \n",
       "1              0.72                      6                    13   \n",
       "2              0.44                      0                    14   \n",
       "3              0.51                      1                     6   \n",
       "4              0.64                      1                    14   \n",
       "\n",
       "   on_target_attempts_team1  passes_team1  Defensive_Team  \n",
       "0                         0           450               0  \n",
       "1                         7           809               0  \n",
       "2                         3           383               0  \n",
       "3                         1           569               0  \n",
       "4                         6           610               0  "
      ]
     },
     "execution_count": 179,
     "metadata": {},
     "output_type": "execute_result"
    }
   ],
   "source": [
    "X['Defensive_Team'] = X['Defensive_Team'].replace({True: 1, False: 0})\n",
    "X.head()"
   ]
  },
  {
   "cell_type": "markdown",
   "metadata": {},
   "source": [
    "## 6. Feature Selection with k-Fold Cross-Validation"
   ]
  },
  {
   "cell_type": "markdown",
   "metadata": {},
   "source": [
    "In this section, we will use k=5 fold cross validation to select a logistic regression model with the highest average test AUC through a backwards elimination algorithm. We can calculate the array of AUC scores, the average, and the standard deviation to get a full hollistic view of the difference between each model."
   ]
  },
  {
   "cell_type": "code",
   "execution_count": 180,
   "metadata": {},
   "outputs": [],
   "source": [
    "log_mod = LogisticRegression()"
   ]
  },
  {
   "cell_type": "code",
   "execution_count": 181,
   "metadata": {},
   "outputs": [
    {
     "data": {
      "text/plain": [
       "KFold(n_splits=5, random_state=100, shuffle=True)"
      ]
     },
     "execution_count": 181,
     "metadata": {},
     "output_type": "execute_result"
    }
   ],
   "source": [
    "cross_val = KFold(n_splits=5, shuffle=True, random_state=100)\n",
    "cross_val"
   ]
  },
  {
   "cell_type": "code",
   "execution_count": 182,
   "metadata": {},
   "outputs": [
    {
     "name": "stdout",
     "output_type": "stream",
     "text": [
      "Test Fold AUC Scores: [0.88888889 0.88095238 0.95238095 0.78571429 0.74285714]\n",
      "Mean Test AUC Score: 0.8501587301587301\n",
      "Std Test AUC Score: 0.07558356156957308\n"
     ]
    }
   ],
   "source": [
    "test_fold_auc=cross_val_score(log_mod, X, Y, cv=cross_val, scoring=\"roc_auc\")\n",
    "print('Test Fold AUC Scores:', test_fold_auc)\n",
    "print('Mean Test AUC Score:', test_fold_auc.mean())\n",
    "print('Std Test AUC Score:', test_fold_auc.std())"
   ]
  },
  {
   "cell_type": "markdown",
   "metadata": {},
   "source": [
    "We can see that the full model as a Mean Test AUC Score of 0.85. Now, we will begin the first iteration of the backwards elimination algorithm."
   ]
  },
  {
   "cell_type": "code",
   "execution_count": 183,
   "metadata": {},
   "outputs": [
    {
     "data": {
      "text/html": [
       "<div>\n",
       "<style scoped>\n",
       "    .dataframe tbody tr th:only-of-type {\n",
       "        vertical-align: middle;\n",
       "    }\n",
       "\n",
       "    .dataframe tbody tr th {\n",
       "        vertical-align: top;\n",
       "    }\n",
       "\n",
       "    .dataframe thead th {\n",
       "        text-align: right;\n",
       "    }\n",
       "</style>\n",
       "<table border=\"1\" class=\"dataframe\">\n",
       "  <thead>\n",
       "    <tr style=\"text-align: right;\">\n",
       "      <th></th>\n",
       "      <th>possession_team1</th>\n",
       "      <th>number_of_goals_team1</th>\n",
       "      <th>total_attempts_team1</th>\n",
       "      <th>on_target_attempts_team1</th>\n",
       "      <th>Defensive_Team</th>\n",
       "    </tr>\n",
       "  </thead>\n",
       "  <tbody>\n",
       "    <tr>\n",
       "      <th>0</th>\n",
       "      <td>0.42</td>\n",
       "      <td>0</td>\n",
       "      <td>5</td>\n",
       "      <td>0</td>\n",
       "      <td>0</td>\n",
       "    </tr>\n",
       "    <tr>\n",
       "      <th>1</th>\n",
       "      <td>0.72</td>\n",
       "      <td>6</td>\n",
       "      <td>13</td>\n",
       "      <td>7</td>\n",
       "      <td>0</td>\n",
       "    </tr>\n",
       "    <tr>\n",
       "      <th>2</th>\n",
       "      <td>0.44</td>\n",
       "      <td>0</td>\n",
       "      <td>14</td>\n",
       "      <td>3</td>\n",
       "      <td>0</td>\n",
       "    </tr>\n",
       "    <tr>\n",
       "      <th>3</th>\n",
       "      <td>0.51</td>\n",
       "      <td>1</td>\n",
       "      <td>6</td>\n",
       "      <td>1</td>\n",
       "      <td>0</td>\n",
       "    </tr>\n",
       "    <tr>\n",
       "      <th>4</th>\n",
       "      <td>0.64</td>\n",
       "      <td>1</td>\n",
       "      <td>14</td>\n",
       "      <td>6</td>\n",
       "      <td>0</td>\n",
       "    </tr>\n",
       "  </tbody>\n",
       "</table>\n",
       "</div>"
      ],
      "text/plain": [
       "   possession_team1  number_of_goals_team1  total_attempts_team1  \\\n",
       "0              0.42                      0                     5   \n",
       "1              0.72                      6                    13   \n",
       "2              0.44                      0                    14   \n",
       "3              0.51                      1                     6   \n",
       "4              0.64                      1                    14   \n",
       "\n",
       "   on_target_attempts_team1  Defensive_Team  \n",
       "0                         0               0  \n",
       "1                         7               0  \n",
       "2                         3               0  \n",
       "3                         1               0  \n",
       "4                         6               0  "
      ]
     },
     "execution_count": 183,
     "metadata": {},
     "output_type": "execute_result"
    }
   ],
   "source": [
    "X_reduced_1 = X[['possession_team1', 'number_of_goals_team1', 'total_attempts_team1', 'on_target_attempts_team1', 'Defensive_Team']]\n",
    "X_reduced_1.head()"
   ]
  },
  {
   "cell_type": "code",
   "execution_count": 184,
   "metadata": {},
   "outputs": [
    {
     "name": "stdout",
     "output_type": "stream",
     "text": [
      "Test Fold AUC Scores: [0.83333333 0.88095238 0.95238095 0.78571429 0.82857143]\n",
      "Mean Test AUC Score: 0.8561904761904762\n",
      "Std Test AUC Score: 0.0567766040411005\n"
     ]
    }
   ],
   "source": [
    "test_fold_auc=cross_val_score(log_mod, X_reduced_1, Y, cv=cross_val, scoring=\"roc_auc\")\n",
    "print('Test Fold AUC Scores:', test_fold_auc)\n",
    "print('Mean Test AUC Score:', test_fold_auc.mean())\n",
    "print('Std Test AUC Score:', test_fold_auc.std())"
   ]
  },
  {
   "cell_type": "code",
   "execution_count": 185,
   "metadata": {},
   "outputs": [
    {
     "data": {
      "text/html": [
       "<div>\n",
       "<style scoped>\n",
       "    .dataframe tbody tr th:only-of-type {\n",
       "        vertical-align: middle;\n",
       "    }\n",
       "\n",
       "    .dataframe tbody tr th {\n",
       "        vertical-align: top;\n",
       "    }\n",
       "\n",
       "    .dataframe thead th {\n",
       "        text-align: right;\n",
       "    }\n",
       "</style>\n",
       "<table border=\"1\" class=\"dataframe\">\n",
       "  <thead>\n",
       "    <tr style=\"text-align: right;\">\n",
       "      <th></th>\n",
       "      <th>possession_team1</th>\n",
       "      <th>number_of_goals_team1</th>\n",
       "      <th>total_attempts_team1</th>\n",
       "      <th>passes_team1</th>\n",
       "      <th>Defensive_Team</th>\n",
       "    </tr>\n",
       "  </thead>\n",
       "  <tbody>\n",
       "    <tr>\n",
       "      <th>0</th>\n",
       "      <td>0.42</td>\n",
       "      <td>0</td>\n",
       "      <td>5</td>\n",
       "      <td>450</td>\n",
       "      <td>0</td>\n",
       "    </tr>\n",
       "    <tr>\n",
       "      <th>1</th>\n",
       "      <td>0.72</td>\n",
       "      <td>6</td>\n",
       "      <td>13</td>\n",
       "      <td>809</td>\n",
       "      <td>0</td>\n",
       "    </tr>\n",
       "    <tr>\n",
       "      <th>2</th>\n",
       "      <td>0.44</td>\n",
       "      <td>0</td>\n",
       "      <td>14</td>\n",
       "      <td>383</td>\n",
       "      <td>0</td>\n",
       "    </tr>\n",
       "    <tr>\n",
       "      <th>3</th>\n",
       "      <td>0.51</td>\n",
       "      <td>1</td>\n",
       "      <td>6</td>\n",
       "      <td>569</td>\n",
       "      <td>0</td>\n",
       "    </tr>\n",
       "    <tr>\n",
       "      <th>4</th>\n",
       "      <td>0.64</td>\n",
       "      <td>1</td>\n",
       "      <td>14</td>\n",
       "      <td>610</td>\n",
       "      <td>0</td>\n",
       "    </tr>\n",
       "  </tbody>\n",
       "</table>\n",
       "</div>"
      ],
      "text/plain": [
       "   possession_team1  number_of_goals_team1  total_attempts_team1  \\\n",
       "0              0.42                      0                     5   \n",
       "1              0.72                      6                    13   \n",
       "2              0.44                      0                    14   \n",
       "3              0.51                      1                     6   \n",
       "4              0.64                      1                    14   \n",
       "\n",
       "   passes_team1  Defensive_Team  \n",
       "0           450               0  \n",
       "1           809               0  \n",
       "2           383               0  \n",
       "3           569               0  \n",
       "4           610               0  "
      ]
     },
     "execution_count": 185,
     "metadata": {},
     "output_type": "execute_result"
    }
   ],
   "source": [
    "X_reduced_1 = X[['possession_team1', 'number_of_goals_team1', 'total_attempts_team1', 'passes_team1', 'Defensive_Team']]\n",
    "X_reduced_1.head()"
   ]
  },
  {
   "cell_type": "code",
   "execution_count": 186,
   "metadata": {},
   "outputs": [
    {
     "name": "stdout",
     "output_type": "stream",
     "text": [
      "Test Fold AUC Scores: [0.88888889 0.88095238 0.95238095 0.80952381 0.88571429]\n",
      "Mean Test AUC Score: 0.8834920634920636\n",
      "Std Test AUC Score: 0.04529347765590302\n"
     ]
    }
   ],
   "source": [
    "test_fold_auc=cross_val_score(log_mod, X_reduced_1, Y, cv=cross_val, scoring=\"roc_auc\")\n",
    "print('Test Fold AUC Scores:', test_fold_auc)\n",
    "print('Mean Test AUC Score:', test_fold_auc.mean())\n",
    "print('Std Test AUC Score:', test_fold_auc.std())"
   ]
  },
  {
   "cell_type": "code",
   "execution_count": 187,
   "metadata": {},
   "outputs": [
    {
     "data": {
      "text/html": [
       "<div>\n",
       "<style scoped>\n",
       "    .dataframe tbody tr th:only-of-type {\n",
       "        vertical-align: middle;\n",
       "    }\n",
       "\n",
       "    .dataframe tbody tr th {\n",
       "        vertical-align: top;\n",
       "    }\n",
       "\n",
       "    .dataframe thead th {\n",
       "        text-align: right;\n",
       "    }\n",
       "</style>\n",
       "<table border=\"1\" class=\"dataframe\">\n",
       "  <thead>\n",
       "    <tr style=\"text-align: right;\">\n",
       "      <th></th>\n",
       "      <th>possession_team1</th>\n",
       "      <th>number_of_goals_team1</th>\n",
       "      <th>passes_team1</th>\n",
       "      <th>on_target_attempts_team1</th>\n",
       "      <th>Defensive_Team</th>\n",
       "    </tr>\n",
       "  </thead>\n",
       "  <tbody>\n",
       "    <tr>\n",
       "      <th>0</th>\n",
       "      <td>0.42</td>\n",
       "      <td>0</td>\n",
       "      <td>450</td>\n",
       "      <td>0</td>\n",
       "      <td>0</td>\n",
       "    </tr>\n",
       "    <tr>\n",
       "      <th>1</th>\n",
       "      <td>0.72</td>\n",
       "      <td>6</td>\n",
       "      <td>809</td>\n",
       "      <td>7</td>\n",
       "      <td>0</td>\n",
       "    </tr>\n",
       "    <tr>\n",
       "      <th>2</th>\n",
       "      <td>0.44</td>\n",
       "      <td>0</td>\n",
       "      <td>383</td>\n",
       "      <td>3</td>\n",
       "      <td>0</td>\n",
       "    </tr>\n",
       "    <tr>\n",
       "      <th>3</th>\n",
       "      <td>0.51</td>\n",
       "      <td>1</td>\n",
       "      <td>569</td>\n",
       "      <td>1</td>\n",
       "      <td>0</td>\n",
       "    </tr>\n",
       "    <tr>\n",
       "      <th>4</th>\n",
       "      <td>0.64</td>\n",
       "      <td>1</td>\n",
       "      <td>610</td>\n",
       "      <td>6</td>\n",
       "      <td>0</td>\n",
       "    </tr>\n",
       "  </tbody>\n",
       "</table>\n",
       "</div>"
      ],
      "text/plain": [
       "   possession_team1  number_of_goals_team1  passes_team1  \\\n",
       "0              0.42                      0           450   \n",
       "1              0.72                      6           809   \n",
       "2              0.44                      0           383   \n",
       "3              0.51                      1           569   \n",
       "4              0.64                      1           610   \n",
       "\n",
       "   on_target_attempts_team1  Defensive_Team  \n",
       "0                         0               0  \n",
       "1                         7               0  \n",
       "2                         3               0  \n",
       "3                         1               0  \n",
       "4                         6               0  "
      ]
     },
     "execution_count": 187,
     "metadata": {},
     "output_type": "execute_result"
    }
   ],
   "source": [
    "X_reduced_1 = X[['possession_team1', 'number_of_goals_team1', 'passes_team1', 'on_target_attempts_team1', 'Defensive_Team']]\n",
    "X_reduced_1.head()"
   ]
  },
  {
   "cell_type": "code",
   "execution_count": 188,
   "metadata": {},
   "outputs": [
    {
     "name": "stdout",
     "output_type": "stream",
     "text": [
      "Test Fold AUC Scores: [0.86111111 0.88095238 0.95238095 0.76190476 0.8       ]\n",
      "Mean Test AUC Score: 0.8512698412698413\n",
      "Std Test AUC Score: 0.06605463583728148\n"
     ]
    }
   ],
   "source": [
    "test_fold_auc=cross_val_score(log_mod, X_reduced_1, Y, cv=cross_val, scoring=\"roc_auc\")\n",
    "print('Test Fold AUC Scores:', test_fold_auc)\n",
    "print('Mean Test AUC Score:', test_fold_auc.mean())\n",
    "print('Std Test AUC Score:', test_fold_auc.std())"
   ]
  },
  {
   "cell_type": "code",
   "execution_count": 189,
   "metadata": {},
   "outputs": [
    {
     "data": {
      "text/html": [
       "<div>\n",
       "<style scoped>\n",
       "    .dataframe tbody tr th:only-of-type {\n",
       "        vertical-align: middle;\n",
       "    }\n",
       "\n",
       "    .dataframe tbody tr th {\n",
       "        vertical-align: top;\n",
       "    }\n",
       "\n",
       "    .dataframe thead th {\n",
       "        text-align: right;\n",
       "    }\n",
       "</style>\n",
       "<table border=\"1\" class=\"dataframe\">\n",
       "  <thead>\n",
       "    <tr style=\"text-align: right;\">\n",
       "      <th></th>\n",
       "      <th>possession_team1</th>\n",
       "      <th>passes_team1</th>\n",
       "      <th>on_target_attempts_team1</th>\n",
       "      <th>total_attempts_team1</th>\n",
       "      <th>Defensive_Team</th>\n",
       "    </tr>\n",
       "  </thead>\n",
       "  <tbody>\n",
       "    <tr>\n",
       "      <th>0</th>\n",
       "      <td>0.42</td>\n",
       "      <td>450</td>\n",
       "      <td>0</td>\n",
       "      <td>5</td>\n",
       "      <td>0</td>\n",
       "    </tr>\n",
       "    <tr>\n",
       "      <th>1</th>\n",
       "      <td>0.72</td>\n",
       "      <td>809</td>\n",
       "      <td>7</td>\n",
       "      <td>13</td>\n",
       "      <td>0</td>\n",
       "    </tr>\n",
       "    <tr>\n",
       "      <th>2</th>\n",
       "      <td>0.44</td>\n",
       "      <td>383</td>\n",
       "      <td>3</td>\n",
       "      <td>14</td>\n",
       "      <td>0</td>\n",
       "    </tr>\n",
       "    <tr>\n",
       "      <th>3</th>\n",
       "      <td>0.51</td>\n",
       "      <td>569</td>\n",
       "      <td>1</td>\n",
       "      <td>6</td>\n",
       "      <td>0</td>\n",
       "    </tr>\n",
       "    <tr>\n",
       "      <th>4</th>\n",
       "      <td>0.64</td>\n",
       "      <td>610</td>\n",
       "      <td>6</td>\n",
       "      <td>14</td>\n",
       "      <td>0</td>\n",
       "    </tr>\n",
       "  </tbody>\n",
       "</table>\n",
       "</div>"
      ],
      "text/plain": [
       "   possession_team1  passes_team1  on_target_attempts_team1  \\\n",
       "0              0.42           450                         0   \n",
       "1              0.72           809                         7   \n",
       "2              0.44           383                         3   \n",
       "3              0.51           569                         1   \n",
       "4              0.64           610                         6   \n",
       "\n",
       "   total_attempts_team1  Defensive_Team  \n",
       "0                     5               0  \n",
       "1                    13               0  \n",
       "2                    14               0  \n",
       "3                     6               0  \n",
       "4                    14               0  "
      ]
     },
     "execution_count": 189,
     "metadata": {},
     "output_type": "execute_result"
    }
   ],
   "source": [
    "X_reduced_1 = X[['possession_team1', 'passes_team1', 'on_target_attempts_team1', 'total_attempts_team1', 'Defensive_Team']]\n",
    "X_reduced_1.head()"
   ]
  },
  {
   "cell_type": "code",
   "execution_count": 190,
   "metadata": {},
   "outputs": [
    {
     "name": "stdout",
     "output_type": "stream",
     "text": [
      "Test Fold AUC Scores: [0.80555556 0.69047619 0.71428571 0.4047619  0.6       ]\n",
      "Mean Test AUC Score: 0.643015873015873\n",
      "Std Test AUC Score: 0.1359164001349682\n"
     ]
    }
   ],
   "source": [
    "test_fold_auc=cross_val_score(log_mod, X_reduced_1, Y, cv=cross_val, scoring=\"roc_auc\")\n",
    "print('Test Fold AUC Scores:', test_fold_auc)\n",
    "print('Mean Test AUC Score:', test_fold_auc.mean())\n",
    "print('Std Test AUC Score:', test_fold_auc.std())"
   ]
  },
  {
   "cell_type": "code",
   "execution_count": 191,
   "metadata": {},
   "outputs": [
    {
     "data": {
      "text/html": [
       "<div>\n",
       "<style scoped>\n",
       "    .dataframe tbody tr th:only-of-type {\n",
       "        vertical-align: middle;\n",
       "    }\n",
       "\n",
       "    .dataframe tbody tr th {\n",
       "        vertical-align: top;\n",
       "    }\n",
       "\n",
       "    .dataframe thead th {\n",
       "        text-align: right;\n",
       "    }\n",
       "</style>\n",
       "<table border=\"1\" class=\"dataframe\">\n",
       "  <thead>\n",
       "    <tr style=\"text-align: right;\">\n",
       "      <th></th>\n",
       "      <th>passes_team1</th>\n",
       "      <th>on_target_attempts_team1</th>\n",
       "      <th>total_attempts_team1</th>\n",
       "      <th>number_of_goals_team1</th>\n",
       "      <th>Defensive_Team</th>\n",
       "    </tr>\n",
       "  </thead>\n",
       "  <tbody>\n",
       "    <tr>\n",
       "      <th>0</th>\n",
       "      <td>450</td>\n",
       "      <td>0</td>\n",
       "      <td>5</td>\n",
       "      <td>0</td>\n",
       "      <td>0</td>\n",
       "    </tr>\n",
       "    <tr>\n",
       "      <th>1</th>\n",
       "      <td>809</td>\n",
       "      <td>7</td>\n",
       "      <td>13</td>\n",
       "      <td>6</td>\n",
       "      <td>0</td>\n",
       "    </tr>\n",
       "    <tr>\n",
       "      <th>2</th>\n",
       "      <td>383</td>\n",
       "      <td>3</td>\n",
       "      <td>14</td>\n",
       "      <td>0</td>\n",
       "      <td>0</td>\n",
       "    </tr>\n",
       "    <tr>\n",
       "      <th>3</th>\n",
       "      <td>569</td>\n",
       "      <td>1</td>\n",
       "      <td>6</td>\n",
       "      <td>1</td>\n",
       "      <td>0</td>\n",
       "    </tr>\n",
       "    <tr>\n",
       "      <th>4</th>\n",
       "      <td>610</td>\n",
       "      <td>6</td>\n",
       "      <td>14</td>\n",
       "      <td>1</td>\n",
       "      <td>0</td>\n",
       "    </tr>\n",
       "  </tbody>\n",
       "</table>\n",
       "</div>"
      ],
      "text/plain": [
       "   passes_team1  on_target_attempts_team1  total_attempts_team1  \\\n",
       "0           450                         0                     5   \n",
       "1           809                         7                    13   \n",
       "2           383                         3                    14   \n",
       "3           569                         1                     6   \n",
       "4           610                         6                    14   \n",
       "\n",
       "   number_of_goals_team1  Defensive_Team  \n",
       "0                      0               0  \n",
       "1                      6               0  \n",
       "2                      0               0  \n",
       "3                      1               0  \n",
       "4                      1               0  "
      ]
     },
     "execution_count": 191,
     "metadata": {},
     "output_type": "execute_result"
    }
   ],
   "source": [
    "X_reduced_1 = X[['passes_team1', 'on_target_attempts_team1', 'total_attempts_team1', 'number_of_goals_team1', 'Defensive_Team']]\n",
    "X_reduced_1.head()"
   ]
  },
  {
   "cell_type": "code",
   "execution_count": 192,
   "metadata": {},
   "outputs": [
    {
     "name": "stdout",
     "output_type": "stream",
     "text": [
      "Test Fold AUC Scores: [0.88888889 0.88095238 0.95238095 0.78571429 0.74285714]\n",
      "Mean Test AUC Score: 0.8501587301587301\n",
      "Std Test AUC Score: 0.07558356156957308\n"
     ]
    }
   ],
   "source": [
    "test_fold_auc=cross_val_score(log_mod, X_reduced_1, Y, cv=cross_val, scoring=\"roc_auc\")\n",
    "print('Test Fold AUC Scores:', test_fold_auc)\n",
    "print('Mean Test AUC Score:', test_fold_auc.mean())\n",
    "print('Std Test AUC Score:', test_fold_auc.std())"
   ]
  },
  {
   "cell_type": "code",
   "execution_count": 193,
   "metadata": {},
   "outputs": [
    {
     "data": {
      "text/html": [
       "<div>\n",
       "<style scoped>\n",
       "    .dataframe tbody tr th:only-of-type {\n",
       "        vertical-align: middle;\n",
       "    }\n",
       "\n",
       "    .dataframe tbody tr th {\n",
       "        vertical-align: top;\n",
       "    }\n",
       "\n",
       "    .dataframe thead th {\n",
       "        text-align: right;\n",
       "    }\n",
       "</style>\n",
       "<table border=\"1\" class=\"dataframe\">\n",
       "  <thead>\n",
       "    <tr style=\"text-align: right;\">\n",
       "      <th></th>\n",
       "      <th>passes_team1</th>\n",
       "      <th>on_target_attempts_team1</th>\n",
       "      <th>total_attempts_team1</th>\n",
       "      <th>number_of_goals_team1</th>\n",
       "      <th>possession_team1</th>\n",
       "    </tr>\n",
       "  </thead>\n",
       "  <tbody>\n",
       "    <tr>\n",
       "      <th>0</th>\n",
       "      <td>450</td>\n",
       "      <td>0</td>\n",
       "      <td>5</td>\n",
       "      <td>0</td>\n",
       "      <td>0.42</td>\n",
       "    </tr>\n",
       "    <tr>\n",
       "      <th>1</th>\n",
       "      <td>809</td>\n",
       "      <td>7</td>\n",
       "      <td>13</td>\n",
       "      <td>6</td>\n",
       "      <td>0.72</td>\n",
       "    </tr>\n",
       "    <tr>\n",
       "      <th>2</th>\n",
       "      <td>383</td>\n",
       "      <td>3</td>\n",
       "      <td>14</td>\n",
       "      <td>0</td>\n",
       "      <td>0.44</td>\n",
       "    </tr>\n",
       "    <tr>\n",
       "      <th>3</th>\n",
       "      <td>569</td>\n",
       "      <td>1</td>\n",
       "      <td>6</td>\n",
       "      <td>1</td>\n",
       "      <td>0.51</td>\n",
       "    </tr>\n",
       "    <tr>\n",
       "      <th>4</th>\n",
       "      <td>610</td>\n",
       "      <td>6</td>\n",
       "      <td>14</td>\n",
       "      <td>1</td>\n",
       "      <td>0.64</td>\n",
       "    </tr>\n",
       "  </tbody>\n",
       "</table>\n",
       "</div>"
      ],
      "text/plain": [
       "   passes_team1  on_target_attempts_team1  total_attempts_team1  \\\n",
       "0           450                         0                     5   \n",
       "1           809                         7                    13   \n",
       "2           383                         3                    14   \n",
       "3           569                         1                     6   \n",
       "4           610                         6                    14   \n",
       "\n",
       "   number_of_goals_team1  possession_team1  \n",
       "0                      0              0.42  \n",
       "1                      6              0.72  \n",
       "2                      0              0.44  \n",
       "3                      1              0.51  \n",
       "4                      1              0.64  "
      ]
     },
     "execution_count": 193,
     "metadata": {},
     "output_type": "execute_result"
    }
   ],
   "source": [
    "X_reduced_1 = X[['passes_team1', 'on_target_attempts_team1', 'total_attempts_team1', 'number_of_goals_team1', 'possession_team1']]\n",
    "X_reduced_1.head()"
   ]
  },
  {
   "cell_type": "code",
   "execution_count": 194,
   "metadata": {},
   "outputs": [
    {
     "name": "stdout",
     "output_type": "stream",
     "text": [
      "Test Fold AUC Scores: [0.86111111 0.85714286 0.95238095 0.76190476 0.77142857]\n",
      "Mean Test AUC Score: 0.8407936507936509\n",
      "Std Test AUC Score: 0.06952235991820636\n"
     ]
    }
   ],
   "source": [
    "test_fold_auc=cross_val_score(log_mod, X_reduced_1, Y, cv=cross_val, scoring=\"roc_auc\")\n",
    "print('Test Fold AUC Scores:', test_fold_auc)\n",
    "print('Mean Test AUC Score:', test_fold_auc.mean())\n",
    "print('Std Test AUC Score:', test_fold_auc.std())"
   ]
  },
  {
   "cell_type": "markdown",
   "metadata": {},
   "source": [
    "In the first iteration of the backwards elimination algorithm, we can see a clear point where the average test AUC is at it's peak, which would be when we removed the on_target_attempts_team1 variable. We can highlight the model below:"
   ]
  },
  {
   "cell_type": "code",
   "execution_count": 195,
   "metadata": {},
   "outputs": [
    {
     "name": "stdout",
     "output_type": "stream",
     "text": [
      "Mean Test AUC Score: 0.8834920634920636\n"
     ]
    }
   ],
   "source": [
    "X_reduced_1 = X[['possession_team1', 'number_of_goals_team1', 'total_attempts_team1', 'passes_team1', 'Defensive_Team']]\n",
    "test_fold_auc=cross_val_score(log_mod, X_reduced_1, Y, cv=cross_val, scoring=\"roc_auc\")\n",
    "print('Mean Test AUC Score:', test_fold_auc.mean())"
   ]
  },
  {
   "cell_type": "markdown",
   "metadata": {},
   "source": [
    "## 7. Best Model Discussion"
   ]
  },
  {
   "cell_type": "markdown",
   "metadata": {},
   "source": [
    "Now, we can create our train test split dataset and fit our model to the training dataframe."
   ]
  },
  {
   "cell_type": "code",
   "execution_count": 196,
   "metadata": {},
   "outputs": [
    {
     "data": {
      "text/plain": [
       "LogisticRegression()"
      ]
     },
     "execution_count": 196,
     "metadata": {},
     "output_type": "execute_result"
    }
   ],
   "source": [
    "df_train, df_test = train_test_split(df, test_size=0.2, random_state=101)\n",
    "\n",
    "X_train = df_train[['possession_team1', 'number_of_goals_team1', 'total_attempts_team1', 'passes_team1', 'Defensive_Team']]\n",
    "Y_train = df_train['Win']\n",
    "\n",
    "log_mod = LogisticRegression()\n",
    "\n",
    "log_mod.fit(X_train, Y_train)"
   ]
  },
  {
   "cell_type": "code",
   "execution_count": 257,
   "metadata": {},
   "outputs": [
    {
     "name": "stdout",
     "output_type": "stream",
     "text": [
      "Logistic Regression Equation:\n",
      "P^(Win=1) = 1 / (1 + exp(-1.0747707454571722 + 0.016412744535441663*possession_team1 + 1.283854480128989*number_of_goals_team1 + -0.017679877093412136*total_attempts_team1 + -0.0024039477226907905*passes_team1 + 0.31810884580939336*Defensive_Team))\n"
     ]
    }
   ],
   "source": [
    "intercept = log_mod.intercept_[0]\n",
    "coefficients = log_mod.coef_[0]\n",
    "\n",
    "print(\"Logistic Regression Equation:\")\n",
    "print(f\"P^(Win=1) = 1 / (1 + exp({intercept} + {coefficients[0]}*possession_team1 + {coefficients[1]}*number_of_goals_team1 + {coefficients[2]}*total_attempts_team1 + {coefficients[3]}*passes_team1 + {coefficients[4]}*Defensive_Team))\")"
   ]
  },
  {
   "cell_type": "markdown",
   "metadata": {},
   "source": [
    "The remaining explanatory variables do exhibit mutlicollinearity. As we can see in the correlation plot, the pairs passes_team1 + possession_team1 and on_target_attempts_team1 + total_attempts_team1. Since the pairs have a ratio greater then 0.8, we can assume that they exhibit multicollinearity."
   ]
  },
  {
   "cell_type": "code",
   "execution_count": 198,
   "metadata": {},
   "outputs": [
    {
     "data": {
      "text/html": [
       "<div>\n",
       "<style scoped>\n",
       "    .dataframe tbody tr th:only-of-type {\n",
       "        vertical-align: middle;\n",
       "    }\n",
       "\n",
       "    .dataframe tbody tr th {\n",
       "        vertical-align: top;\n",
       "    }\n",
       "\n",
       "    .dataframe thead th {\n",
       "        text-align: right;\n",
       "    }\n",
       "</style>\n",
       "<table border=\"1\" class=\"dataframe\">\n",
       "  <thead>\n",
       "    <tr style=\"text-align: right;\">\n",
       "      <th></th>\n",
       "      <th>possession_team1</th>\n",
       "      <th>number_of_goals_team1</th>\n",
       "      <th>total_attempts_team1</th>\n",
       "      <th>on_target_attempts_team1</th>\n",
       "      <th>passes_team1</th>\n",
       "      <th>Win</th>\n",
       "      <th>Defensive_Team</th>\n",
       "    </tr>\n",
       "  </thead>\n",
       "  <tbody>\n",
       "    <tr>\n",
       "      <th>possession_team1</th>\n",
       "      <td>1.000000</td>\n",
       "      <td>0.286253</td>\n",
       "      <td>0.496749</td>\n",
       "      <td>0.307106</td>\n",
       "      <td>0.860115</td>\n",
       "      <td>-0.026806</td>\n",
       "      <td>-0.721992</td>\n",
       "    </tr>\n",
       "    <tr>\n",
       "      <th>number_of_goals_team1</th>\n",
       "      <td>0.286253</td>\n",
       "      <td>1.000000</td>\n",
       "      <td>0.464175</td>\n",
       "      <td>0.605179</td>\n",
       "      <td>0.472537</td>\n",
       "      <td>0.541378</td>\n",
       "      <td>-0.165238</td>\n",
       "    </tr>\n",
       "    <tr>\n",
       "      <th>total_attempts_team1</th>\n",
       "      <td>0.496749</td>\n",
       "      <td>0.464175</td>\n",
       "      <td>1.000000</td>\n",
       "      <td>0.818599</td>\n",
       "      <td>0.523735</td>\n",
       "      <td>0.172402</td>\n",
       "      <td>-0.389659</td>\n",
       "    </tr>\n",
       "    <tr>\n",
       "      <th>on_target_attempts_team1</th>\n",
       "      <td>0.307106</td>\n",
       "      <td>0.605179</td>\n",
       "      <td>0.818599</td>\n",
       "      <td>1.000000</td>\n",
       "      <td>0.342725</td>\n",
       "      <td>0.334501</td>\n",
       "      <td>-0.238389</td>\n",
       "    </tr>\n",
       "    <tr>\n",
       "      <th>passes_team1</th>\n",
       "      <td>0.860115</td>\n",
       "      <td>0.472537</td>\n",
       "      <td>0.523735</td>\n",
       "      <td>0.342725</td>\n",
       "      <td>1.000000</td>\n",
       "      <td>0.065112</td>\n",
       "      <td>-0.479811</td>\n",
       "    </tr>\n",
       "    <tr>\n",
       "      <th>Win</th>\n",
       "      <td>-0.026806</td>\n",
       "      <td>0.541378</td>\n",
       "      <td>0.172402</td>\n",
       "      <td>0.334501</td>\n",
       "      <td>0.065112</td>\n",
       "      <td>1.000000</td>\n",
       "      <td>0.057354</td>\n",
       "    </tr>\n",
       "    <tr>\n",
       "      <th>Defensive_Team</th>\n",
       "      <td>-0.721992</td>\n",
       "      <td>-0.165238</td>\n",
       "      <td>-0.389659</td>\n",
       "      <td>-0.238389</td>\n",
       "      <td>-0.479811</td>\n",
       "      <td>0.057354</td>\n",
       "      <td>1.000000</td>\n",
       "    </tr>\n",
       "  </tbody>\n",
       "</table>\n",
       "</div>"
      ],
      "text/plain": [
       "                          possession_team1  number_of_goals_team1  \\\n",
       "possession_team1                  1.000000               0.286253   \n",
       "number_of_goals_team1             0.286253               1.000000   \n",
       "total_attempts_team1              0.496749               0.464175   \n",
       "on_target_attempts_team1          0.307106               0.605179   \n",
       "passes_team1                      0.860115               0.472537   \n",
       "Win                              -0.026806               0.541378   \n",
       "Defensive_Team                   -0.721992              -0.165238   \n",
       "\n",
       "                          total_attempts_team1  on_target_attempts_team1  \\\n",
       "possession_team1                      0.496749                  0.307106   \n",
       "number_of_goals_team1                 0.464175                  0.605179   \n",
       "total_attempts_team1                  1.000000                  0.818599   \n",
       "on_target_attempts_team1              0.818599                  1.000000   \n",
       "passes_team1                          0.523735                  0.342725   \n",
       "Win                                   0.172402                  0.334501   \n",
       "Defensive_Team                       -0.389659                 -0.238389   \n",
       "\n",
       "                          passes_team1       Win  Defensive_Team  \n",
       "possession_team1              0.860115 -0.026806       -0.721992  \n",
       "number_of_goals_team1         0.472537  0.541378       -0.165238  \n",
       "total_attempts_team1          0.523735  0.172402       -0.389659  \n",
       "on_target_attempts_team1      0.342725  0.334501       -0.238389  \n",
       "passes_team1                  1.000000  0.065112       -0.479811  \n",
       "Win                           0.065112  1.000000        0.057354  \n",
       "Defensive_Team               -0.479811  0.057354        1.000000  "
      ]
     },
     "execution_count": 198,
     "metadata": {},
     "output_type": "execute_result"
    }
   ],
   "source": [
    "df_train.corr()"
   ]
  },
  {
   "cell_type": "markdown",
   "metadata": {},
   "source": [
    "Slope Interpretations:\n",
    "\n",
    "Yes, I believe that the magnitudes of the slopes do show how much of an effect they have on the response variable. This is because the number of goals scored has the highest magnitude, while all the others are below 0.5. This shows that the number of goals scored by a team determines whether they win or not, which makes logical sense. So, the number_of_goals_team1 variable is definetly the most important variable."
   ]
  },
  {
   "cell_type": "markdown",
   "metadata": {},
   "source": [
    "Overfitting Explanatory Variables:\n",
    "\n",
    "Although seen later aswell, a pair of explanatory variables that I believe are overfitting our model are on_target_attempts_team1 and total_attempts_team1. This is because they are very similar variables only because it is at the level of the FIFA World Cup. This means that almsot every attempt would be on target since all of these players are world renowned and quite accurate. Also, our best model occured when we got rid of on_target_attempts_team1, which showcases that this variable was definetly overfitting our model."
   ]
  },
  {
   "cell_type": "markdown",
   "metadata": {},
   "source": [
    "We will now create a full logistic regression model in order to plot the ROC curve."
   ]
  },
  {
   "cell_type": "code",
   "execution_count": 199,
   "metadata": {},
   "outputs": [
    {
     "name": "stdout",
     "output_type": "stream",
     "text": [
      "Optimization terminated successfully.\n",
      "         Current function value: 0.453287\n",
      "         Iterations 7\n"
     ]
    },
    {
     "data": {
      "text/html": [
       "<table class=\"simpletable\">\n",
       "<caption>Logit Regression Results</caption>\n",
       "<tr>\n",
       "  <th>Dep. Variable:</th>          <td>Win</td>       <th>  No. Observations:  </th>  <td>    51</td>  \n",
       "</tr>\n",
       "<tr>\n",
       "  <th>Model:</th>                 <td>Logit</td>      <th>  Df Residuals:      </th>  <td>    45</td>  \n",
       "</tr>\n",
       "<tr>\n",
       "  <th>Method:</th>                 <td>MLE</td>       <th>  Df Model:          </th>  <td>     5</td>  \n",
       "</tr>\n",
       "<tr>\n",
       "  <th>Date:</th>            <td>Tue, 05 Dec 2023</td> <th>  Pseudo R-squ.:     </th>  <td>0.3135</td>  \n",
       "</tr>\n",
       "<tr>\n",
       "  <th>Time:</th>                <td>23:49:43</td>     <th>  Log-Likelihood:    </th> <td> -23.118</td> \n",
       "</tr>\n",
       "<tr>\n",
       "  <th>converged:</th>             <td>True</td>       <th>  LL-Null:           </th> <td> -33.675</td> \n",
       "</tr>\n",
       "<tr>\n",
       "  <th>Covariance Type:</th>     <td>nonrobust</td>    <th>  LLR p-value:       </th> <td>0.0007705</td>\n",
       "</tr>\n",
       "</table>\n",
       "<table class=\"simpletable\">\n",
       "<tr>\n",
       "             <td></td>               <th>coef</th>     <th>std err</th>      <th>z</th>      <th>P>|z|</th>  <th>[0.025</th>    <th>0.975]</th>  \n",
       "</tr>\n",
       "<tr>\n",
       "  <th>Intercept</th>              <td>   -2.5263</td> <td>    2.694</td> <td>   -0.938</td> <td> 0.348</td> <td>   -7.806</td> <td>    2.754</td>\n",
       "</tr>\n",
       "<tr>\n",
       "  <th>Defensive_Team[T.True]</th> <td>    1.0381</td> <td>    1.233</td> <td>    0.842</td> <td> 0.400</td> <td>   -1.379</td> <td>    3.455</td>\n",
       "</tr>\n",
       "<tr>\n",
       "  <th>possession_team1</th>       <td>    4.8961</td> <td>    8.589</td> <td>    0.570</td> <td> 0.569</td> <td>  -11.939</td> <td>   21.731</td>\n",
       "</tr>\n",
       "<tr>\n",
       "  <th>number_of_goals_team1</th>  <td>    1.6249</td> <td>    0.506</td> <td>    3.211</td> <td> 0.001</td> <td>    0.633</td> <td>    2.617</td>\n",
       "</tr>\n",
       "<tr>\n",
       "  <th>total_attempts_team1</th>   <td>   -0.0360</td> <td>    0.086</td> <td>   -0.417</td> <td> 0.677</td> <td>   -0.205</td> <td>    0.133</td>\n",
       "</tr>\n",
       "<tr>\n",
       "  <th>passes_team1</th>           <td>   -0.0049</td> <td>    0.006</td> <td>   -0.847</td> <td> 0.397</td> <td>   -0.016</td> <td>    0.006</td>\n",
       "</tr>\n",
       "</table>"
      ],
      "text/plain": [
       "<class 'statsmodels.iolib.summary.Summary'>\n",
       "\"\"\"\n",
       "                           Logit Regression Results                           \n",
       "==============================================================================\n",
       "Dep. Variable:                    Win   No. Observations:                   51\n",
       "Model:                          Logit   Df Residuals:                       45\n",
       "Method:                           MLE   Df Model:                            5\n",
       "Date:                Tue, 05 Dec 2023   Pseudo R-squ.:                  0.3135\n",
       "Time:                        23:49:43   Log-Likelihood:                -23.118\n",
       "converged:                       True   LL-Null:                       -33.675\n",
       "Covariance Type:            nonrobust   LLR p-value:                 0.0007705\n",
       "==========================================================================================\n",
       "                             coef    std err          z      P>|z|      [0.025      0.975]\n",
       "------------------------------------------------------------------------------------------\n",
       "Intercept                 -2.5263      2.694     -0.938      0.348      -7.806       2.754\n",
       "Defensive_Team[T.True]     1.0381      1.233      0.842      0.400      -1.379       3.455\n",
       "possession_team1           4.8961      8.589      0.570      0.569     -11.939      21.731\n",
       "number_of_goals_team1      1.6249      0.506      3.211      0.001       0.633       2.617\n",
       "total_attempts_team1      -0.0360      0.086     -0.417      0.677      -0.205       0.133\n",
       "passes_team1              -0.0049      0.006     -0.847      0.397      -0.016       0.006\n",
       "==========================================================================================\n",
       "\"\"\""
      ]
     },
     "execution_count": 199,
     "metadata": {},
     "output_type": "execute_result"
    }
   ],
   "source": [
    "full_mod = smf.logit(formula='Win~possession_team1+number_of_goals_team1+total_attempts_team1+passes_team1+Defensive_Team', data=df_train).fit()\n",
    "full_mod.summary()"
   ]
  },
  {
   "cell_type": "code",
   "execution_count": 200,
   "metadata": {},
   "outputs": [
    {
     "data": {
      "text/plain": [
       "22    0.414144\n",
       "16    0.053052\n",
       "2     0.059769\n",
       "25    0.031164\n",
       "61    0.762297\n",
       "dtype: float64"
      ]
     },
     "execution_count": 200,
     "metadata": {},
     "output_type": "execute_result"
    }
   ],
   "source": [
    "phat_test = full_mod.predict(df_test)\n",
    "phat_test.head()"
   ]
  },
  {
   "cell_type": "code",
   "execution_count": 207,
   "metadata": {},
   "outputs": [
    {
     "data": {
      "text/plain": [
       "1.0"
      ]
     },
     "execution_count": 207,
     "metadata": {},
     "output_type": "execute_result"
    }
   ],
   "source": [
    "fprs, tprs, thresholds = roc_curve(y_true=df_test['Win'], y_score=phat_test)\n",
    "auc = roc_auc_score(y_true=df_test['Win'], y_score=phat_test)\n",
    "auc"
   ]
  },
  {
   "cell_type": "code",
   "execution_count": 209,
   "metadata": {},
   "outputs": [
    {
     "data": {
      "image/png": "[encoded data removed]",
      "text/plain": [
       "<Figure size 432x288 with 1 Axes>"
      ]
     },
     "metadata": {},
     "output_type": "display_data"
    }
   ],
   "source": [
    "def plot_roc(fpr, tpr, auc, lw=2):\n",
    "    plt.plot(fpr, tpr, color='darkorange', lw=lw, label='ROC curve (area = '+str(round(auc,3))+')')\n",
    "    plt.plot([0, 1], [0, 1], color='navy', lw=lw, linestyle='--')\n",
    "    plt.xlabel('False Positive Rate')\n",
    "    plt.ylabel('True Positive Rate')\n",
    "    plt.title('ROC Curve')\n",
    "    plt.legend(loc=\"lower right\")\n",
    "    plt.show()\n",
    "\n",
    "plot_roc(fprs, tprs, auc)"
   ]
  },
  {
   "cell_type": "markdown",
   "metadata": {},
   "source": [
    "Since we have achieved an AUC score of 1 and since the ROC curve reached the top left corner with a right angle being formed, the model has achieved a true positive rate of 1 (sensitivity/recall) and a false positive rate of 0 (specificity) across different probability thresholds. This could either mean that our model has a perfect prediction rate on the test dataset or that some variables are overfitting the model and could be causing this."
   ]
  },
  {
   "cell_type": "markdown",
   "metadata": {},
   "source": [
    "We can choose a threshold of 0.9 since our original AUC was 1. This best meets our research goal based on the research motivation, since they would want this model to accurately guess the correct response variable based on new test datasets.\n",
    "\n",
    "The test FPR that we would ideally want would be 0, and the test TPR would be 1. "
   ]
  },
  {
   "cell_type": "code",
   "execution_count": 216,
   "metadata": {},
   "outputs": [
    {
     "name": "stdout",
     "output_type": "stream",
     "text": [
      "Chosen Threshold: 0.9\n",
      "Test False Positive Rate (FPR): 0.0\n",
      "Test True Positive Rate (TPR): 1.0\n"
     ]
    }
   ],
   "source": [
    "chosen_threshold = 0.9\n",
    "\n",
    "# Find the index of the threshold in the array of thresholds\n",
    "threshold_index = np.argmax(thresholds >= chosen_threshold)\n",
    "\n",
    "# Calculate the FPR and TPR at the chosen threshold\n",
    "chosen_fpr = fprs[threshold_index]\n",
    "chosen_tpr = tprs[threshold_index]\n",
    "\n",
    "print(\"Chosen Threshold:\", chosen_threshold)\n",
    "print(\"Test False Positive Rate (FPR):\", chosen_fpr)\n",
    "print(\"Test True Positive Rate (TPR):\", chosen_tpr)"
   ]
  },
  {
   "cell_type": "markdown",
   "metadata": {},
   "source": [
    "An FPR of 0 means that we never guess a team that loses incorrectly as winning, and a TPR of 1 means that our model correctly guesses that a team wins and does not guess incorrectly."
   ]
  },
  {
   "cell_type": "markdown",
   "metadata": {},
   "source": [
    "## 8. Additional Analysis/Insight"
   ]
  },
  {
   "cell_type": "markdown",
   "metadata": {},
   "source": [
    "For the additional analysis, we can create a new visuzliation using a heatmap. "
   ]
  },
  {
   "cell_type": "code",
   "execution_count": 218,
   "metadata": {},
   "outputs": [
    {
     "data": {
      "image/png": "[encoded data removed]",
      "text/plain": [
       "<Figure size 720x576 with 2 Axes>"
      ]
     },
     "metadata": {},
     "output_type": "display_data"
    }
   ],
   "source": [
    "correlation_matrix = df[['possession_team1', 'passes_team1', 'on_target_attempts_team1', 'total_attempts_team1', 'Defensive_Team', 'Win']].corr()\n",
    "\n",
    "plt.figure(figsize=(10, 8))\n",
    "sns.heatmap(correlation_matrix, annot=True, cmap='coolwarm', fmt=\".2f\", linewidths=.5)\n",
    "plt.title('Correlation Matrix')\n",
    "plt.show()"
   ]
  },
  {
   "cell_type": "markdown",
   "metadata": {},
   "source": [
    "In this heat map, we can see that there is a correlation between on_target_attempts_team1 and total_attempts_team1, as making an attempt would make the numbers similar with a positive correlation. Additionally, being a defensive team has a big negative correlation with the possession variable, which makes sense because being a defensive team would mean that you play more on the defense side of the field and have less ball retention."
   ]
  },
  {
   "cell_type": "markdown",
   "metadata": {},
   "source": [
    "## 9. Conclusion"
   ]
  },
  {
   "cell_type": "markdown",
   "metadata": {},
   "source": [
    "I would reccomend our best model to someone else because the average test AUC is 0.88, which is much closer to 1 compared to 0.5. Additionally, when we test it with the full logistic model, the AUC value is 1, which means that we always guess correctly when we are testing with a test dataset. This would be useful to the person that we would reccomend this to, since they could use this model to guess if a soccer team will win based on their previous game statistics!"
   ]
  },
  {
   "cell_type": "markdown",
   "metadata": {},
   "source": [
    "Regarding the first part, it's essential to acknowledge that while backward elimination is a helpful tool, there's no one-size-fits-all guarantee for finding the absolute best model. It optimizes based on certain criteria, but other methods or combinations of features might yield different results.\n",
    "\n",
    "For the second part, a simpler option to explore would be to use regularization techniques like L1 or L2 regularization in combination with cross-validation. Regularization helps prevent overfitting, and cross-validation ensures a more reliable estimate of model performance. This straightforward approach can be effective in improving the model's generalization to new data.\n",
    "\n",
    "However, it's important to note some shortcomings of the analysis. Backward elimination might not capture interaction effects between features, and the assumption of linearity in logistic regression may limit its ability to model complex relationships. Additionally, we should be cautious about potential overfitting, and considering external validation on an independent dataset could provide a clearer picture of the model's performance in real-world scenarios."
   ]
  },
  {
   "cell_type": "markdown",
   "metadata": {},
   "source": [
    "In terms of future work, we can go further and create this into a working application, where we can improve the accuracy of the model and create an app that could predict if a soccer team would win or lose in terms of its previous game statistics."
   ]
  },
  {
   "cell_type": "markdown",
   "metadata": {},
   "source": [
    "## References"
   ]
  },
  {
   "cell_type": "markdown",
   "metadata": {},
   "source": [
    "Ondřej Hubáček, Gustav Šourek, Filip Železný, Exploiting sports-betting market using machine learning, International Journal of Forecasting, Volume 35, Issue 2, 2019, Pages 783-796, ISSN 0169-2070, https://doi.org/10.1016/j.ijforecast.2019.01.001. (https://www.sciencedirect.com/science/article/pii/S016920701930007X)\n",
    "\n",
    "Wunderlich, F., & Memmert, D. (2016). Analysis of the predictive qualities of betting odds and FIFA World Ranking: evidence from the 2006, 2010 and 2014 Football World Cups. Journal of Sports Sciences, 34(24), 2176–2184. https://doi-org.proxy2.library.illinois.edu/10.1080/02640414.2016.1218040"
   ]
  }
 ],
 "metadata": {
  "kernelspec": {
   "display_name": "Python 3 (ipykernel)",
   "language": "python",
   "name": "python3"
  },
  "language_info": {
   "codemirror_mode": {
    "name": "ipython",
    "version": 3
   },
   "file_extension": ".py",
   "mimetype": "text/x-python",
   "name": "python",
   "nbconvert_exporter": "python",
   "pygments_lexer": "ipython3",
   "version": "3.9.12"
  }
 },
 "nbformat": 4,
 "nbformat_minor": 4
}
